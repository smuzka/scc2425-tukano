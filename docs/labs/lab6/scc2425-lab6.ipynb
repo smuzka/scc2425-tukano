{
 "cells": [
  {
   "cell_type": "code",
   "execution_count": 1,
   "id": "0cbec22e",
   "metadata": {
    "slideshow": {
     "slide_type": "skip"
    }
   },
   "outputs": [],
   "source": [
    "\n",
    "!jupyter nbconvert --to html --TemplateExporter.exclude_code_cell=True --TemplateExporter.exclude_input_prompt=True --TemplateExporter.exclude_output_prompt=True scc2425-lab6.ipynb 2> /dev/null\n",
    "!jupyter nbconvert --to slides --TemplateExporter.exclude_input_prompt=True --TemplateExporter.exclude_output_prompt=True scc2425-lab6.ipynb 2> /dev/null"
   ]
  },
  {
   "cell_type": "markdown",
   "id": "b3f0f5fd",
   "metadata": {
    "slideshow": {
     "slide_type": "slide"
    }
   },
   "source": [
    "# Cloud Computing Systems\n",
    "## 2024/25\n",
    "\n",
    "Lab 6\n",
    "https://smduarte.github.io/scc2425/\n",
    "\n",
    "Sérgio Duarte, Kevin Gallagher "
   ]
  },
  {
   "attachments": {},
   "cell_type": "markdown",
   "id": "05850652",
   "metadata": {
    "slideshow": {
     "slide_type": "slide"
    }
   },
   "source": [
    "# Goals\n",
    "\n",
    "+ Use Artillery to test a small set of endpoints in the REST API.\n",
    "+ Create one random test using JavaScript helper functions.\n",
    "+ Expand the small example to test all of the TuKano endpoints.\n"
   ]
  },
  {
   "attachments": {},
   "cell_type": "markdown",
   "id": "71d76a4d-9edf-4167-986d-03c9fa99c09a",
   "metadata": {
    "slideshow": {
     "slide_type": "slide"
    }
   },
   "source": [
    "# Goals\n",
    "\n",
    "+ **Use Artillery to test a small set of endpoints in the REST API.**\n",
    "+ Create one random test using JavaScript helper functions.\n",
    "+ Expand the small example to test all of the TuKano endpoints.\n"
   ]
  },
  {
   "cell_type": "markdown",
   "id": "3b9d470e",
   "metadata": {
    "slideshow": {
     "slide_type": "slide"
    }
   },
   "source": [
    "# Artillery\n",
    "\n",
    "### What is Artillery?\n",
    "\n",
    "Artillery is a testing toolkit used to test an application's performance and resilency under load. It works with HTTP APIs, Websocket and Socket.io services, or web applications interacted with via real browsers. It can also integrate well with Azure via Azure Container Instances. In this lesson we will be learning how to do simple tests, as well as extensible tests using Node.js."
   ]
  },
  {
   "attachments": {},
   "cell_type": "markdown",
   "id": "1d1fb185",
   "metadata": {
    "slideshow": {
     "slide_type": "slide"
    }
   },
   "source": [
    "# Documentation\n",
    "\n",
    "\n",
    "### Artillery documentation\n",
    "\n",
    "[https://www.artillery.io/docs](https://www.artillery.io/docs)\n",
    "\n",
    "### Specific Features:\n",
    "\n",
    "#### Basic YAML Scripts\n",
    "[https://www.artillery.io/docs/reference/test-script](https://www.artillery.io/docs/reference/test-script)\n",
    "\n",
    "#### Custom Code\n",
    "[https://www.artillery.io/docs/reference/test-script#processor---load-custom-code](https://www.artillery.io/docs/reference/test-script#processor---load-custom-code)\n",
    "\n",
    "#### Scenario Weights\n",
    "[https://github.com/artilleryio/artillery/tree/main/examples/scenario-weights](https://github.com/artilleryio/artillery/tree/main/examples/scenario-weights)\n",
    "\n",
    "#### Azure Integration (Optional)\n",
    "[https://www.artillery.io/docs/cicd/azure-devops](https://www.artillery.io/docs/cicd/azure-devops)"
   ]
  },
  {
   "attachments": {},
   "cell_type": "markdown",
   "id": "0c651ba8",
   "metadata": {
    "slideshow": {
     "slide_type": "slide"
    }
   },
   "source": [
    "# Installing Artillery\n",
    "\n",
    "## Install npm (if not already installed)\n",
    "\n",
    "If you don't already have NPM installed, install it by using your machine's package manager. Assuming a Debian-based GNU/Linux, the command is:\n",
    "\n",
    "```bash\n",
    "sudo apt install npm\n",
    "```\n",
    "\n",
    "## Install Artillery\n",
    "\n",
    "Execute the command below to install Artillery globally:\n",
    "\n",
    "```bash\n",
    "sudo npm install -g artillery@latest\n",
    "sudo npm install -g faker@latest\n",
    "sudo npm install -g node-fetch@latest -save\n",
    "sudo npm install -g https://github.com/preguica/artillery-plugin-metrics-by-endpoint.git\n",
    "```\n"
   ]
  },
  {
   "attachments": {},
   "cell_type": "markdown",
   "id": "505a9c47-b1e3-469d-a774-a944e0f6958d",
   "metadata": {
    "slideshow": {
     "slide_type": "slide"
    }
   },
   "source": [
    "# Deploy TuKano\n",
    "\n",
    "## Make sure to deploy the resources you need.\n",
    "\n",
    "This can be done by running the management script from lab 5.\n",
    "\n",
    "`java -cp target/scc2425-mgt-1.0-jar-with-dependencies.jar scc.mgt.AzureManagement`\n",
    "\n",
    "## TuKano: Local vs Cloud Deployment\n",
    "\n",
    "For this lab I will assume that you have a local deployment of TuKano. You can deploy TuKano locally using the instructions [here](https://smduarte.github.io/scc2425/labs/proj1/). To change to a cloud deployment, just substitiute **http://127.0.0.1:8080** with your deployment url in the examples below.\n"
   ]
  },
  {
   "attachments": {},
   "cell_type": "markdown",
   "id": "e4ce68cf-22f2-427a-b1f0-e7da7796aac3",
   "metadata": {
    "slideshow": {
     "slide_type": "slide"
    }
   },
   "source": [
    "# Deploy TuKano\n",
    "\n",
    "## I needed to do the following to get the TuKano deployment to work:\n",
    "\n",
    "* Change the TukanoRestServer class to extend a jakarta Application class. This required changes within the constructor. I used Lab1 as a basis for this.\n",
    "* Create a webapp/WEB-INF folder within the src/main directory of the project. I used Lab1 as a basis for this.\n",
    "* Modify the web.xml file in the WEB-INF folder to point to the correct web applicaiton class.\n",
    "* Install necessary dependencies (make sure you use up-to-date versions).\n",
    "* If you are testing using hibernate because you have not yet implemented cosmos, make sure that you move the hibernate config file to WEB-INF/classes and modify Hibernate.java.\n"
   ]
  },
  {
   "attachments": {},
   "cell_type": "markdown",
   "id": "ddcef555-8a80-4fbb-ab27-b261ed937a8b",
   "metadata": {
    "slideshow": {
     "slide_type": "slide"
    }
   },
   "source": [
    "# Preparing for the first test\n",
    "\n",
    "## Make sure to register the user kgallagher.\n",
    "\n",
    "Our first test assumes the existence of the user `kgallagher` in the TuKano application. To ensure this user exists, we need to register the user by sending the following JSON payload as a post request to `/rest/users/`.\n",
    "\n",
    "```json\n",
    "{\n",
    "    \"userId\": \"kgallagher\",\n",
    "    \"pwd\": \"easypass\",\n",
    "    \"email\": \"kgallagher@fct.unl.pt\",\n",
    "    \"displayName\": \"kgallagher\"\n",
    "}\n",
    "```\n",
    "This can be done via Postman.\n"
   ]
  },
  {
   "attachments": {},
   "cell_type": "markdown",
   "id": "c9c0de5a",
   "metadata": {
    "slideshow": {
     "slide_type": "slide"
    }
   },
   "source": [
    "# Creating your first get test\n",
    "\n",
    "After deploying TuKano, you will need to create a simple Artillery test script, which you should store in `first_get.yaml`. Here is an example beginning test.\n",
    "\n",
    "```yaml\n",
    "config:\n",
    "    target: http://127.0.0.1:8080/tukano/rest\n",
    "    phases:\n",
    "        name: simple_get\n",
    "        duration: 1 # how long the test will run for, in seconds\n",
    "        arrivalRate: 1 # number of arrivals per second.\n",
    "\n",
    "scenarios:\n",
    "    - name: TuKanoHome\n",
    "      flow:\n",
    "        - get:\n",
    "            url: /users/kgallagher?pwd=easypass\n",
    "```\n"
   ]
  },
  {
   "cell_type": "markdown",
   "id": "86aea3c4",
   "metadata": {
    "slideshow": {
     "slide_type": "notes"
    }
   },
   "source": [
    "In order for this test to run, you will need to first submit the user kgallagher to the application using the password easypass. You can do this via Postman as described in the last section.\n",
    "\n",
    "You can run this test using the following command:\n",
    "\n",
    "`artillery run first_get.yaml`"
   ]
  },
  {
   "attachments": {},
   "cell_type": "markdown",
   "id": "cc6aa088",
   "metadata": {
    "slideshow": {
     "slide_type": "slide"
    }
   },
   "source": [
    "# Setting up your first post test\n",
    "\n",
    "We will create our first post test to the TuKano endpoint to register users. To do this we will need a CSV of users that we wish to register. We can use the following CSV, saved as data/users.csv:\n",
    "\n",
    "```text\n",
    "userid,pwd,email,displayName\n",
    "kgallagher2,securepasswordlol,k.gallagher@fct.unl.pt,\"Kevin Gallagher\"\n",
    "sduarte,F1n$nVSQ)7js_~w,smd@fct.unl.pt,\"Sérgio Duarte\"\n",
    "sDent,riZv02g5@KkK&pq,s.dent@campus.fct.unl.pt,\"Stew Dent\"\n",
    "```\n",
    "We will pass this to artillery and have artillery run this scenario, using data from the CSV as a parameter to the query.\n"
   ]
  },
  {
   "cell_type": "markdown",
   "id": "01c56bb4",
   "metadata": {
    "slideshow": {
     "slide_type": "slide"
    }
   },
   "source": [
    "# Post Test Example: config\n",
    "```yaml\n",
    "config:                                                                         \n",
    "    target: http://127.0.0.1:8080/tukano/rest                                          \n",
    "    phases:                                                                     \n",
    "        - name: simple_post                                                     \n",
    "          duration: 1                                                           \n",
    "          arrivalRate: 3                                                        \n",
    "    payload:                                                                    \n",
    "        path: ./data/users.csv                                                  \n",
    "        order: sequence # selects users sequentially, default is random         \n",
    "        #loadAll: true # load the whole CSV                                     \n",
    "        skipHeader: true # The first line is a header, so we want to skip it    \n",
    "        delimiter: \",\" # standard delimiter                                     \n",
    "        skipEmptyLines: true # not important in our case                        \n",
    "        fields:                                                                 \n",
    "            - \"userId\"                                                          \n",
    "            - \"pwd\"                                                             \n",
    "            - \"email\"                                                           \n",
    "            - \"displayName\"\n",
    "```"
   ]
  },
  {
   "cell_type": "markdown",
   "id": "06dec95a-c771-4cd3-a5c3-e47cbde994fa",
   "metadata": {
    "slideshow": {
     "slide_type": "slide"
    }
   },
   "source": [
    "# Post Test Example: scenarios\n",
    "```yaml\n",
    "scenarios:                                                                      \n",
    "    - name: TuKanoRegister                                                      \n",
    "      flow:                                                                     \n",
    "        - post:                                                                 \n",
    "            url: /users/                                                        \n",
    "            headers:                                                            \n",
    "                Content-Type: application/json                                  \n",
    "            json:                                                               \n",
    "                userId: \"{{ userId }}\" # this parameter is filled from the fields above\n",
    "                pwd: \"{{ pwd }}\"                                                \n",
    "                email: \"{{ email }}\"                                            \n",
    "                displayName: \"{{ displayName }}\"\n",
    "```\n",
    "        "
   ]
  },
  {
   "cell_type": "markdown",
   "id": "a469d37c-e7a8-4cb8-abf2-1fc205e1b69b",
   "metadata": {
    "slideshow": {
     "slide_type": "notes"
    }
   },
   "source": [
    "# Post Test Output\n",
    "\n",
    "```\n",
    "Test run id: tkm3d_tyh9yam8gb6dnfhah4ywmj9b3d66h_rgcp\n",
    "Phase started: simple_post (index: 0, duration: 1s) 14:47:04(+0100)\n",
    "\n",
    "Phase completed: simple_post (index: 0, duration: 1s) 14:47:05(+0100)\n",
    "\n",
    "--------------------------------------\n",
    "Metrics for period to: 14:47:10(+0100) (width: 1.929s)\n",
    "--------------------------------------\n",
    "\n",
    "http.codes.200: ................................................................ 3\n",
    "http.downloaded_bytes: ......................................................... 23\n",
    "http.request_rate: ............................................................. 3/sec\n",
    "http.requests: ................................................................. 3\n",
    "http.response_time:\n",
    "  min: ......................................................................... 1246\n",
    "  max: ......................................................................... 1897\n",
    "  mean: ........................................................................ 1578.3\n",
    "  median: ...................................................................... 1587.9\n",
    "  p95: ......................................................................... 1587.9\n",
    "  p99: ......................................................................... 1587.9\n",
    "http.responses: ................................................................ 3\n",
    "vusers.completed: .............................................................. 3\n",
    "vusers.created: ................................................................ 3\n",
    "vusers.created_by_name.TuKanoRegister: ......................................... 3\n",
    "vusers.failed: ................................................................. 0\n",
    "vusers.session_length:\n",
    "  min: ......................................................................... 1261.2\n",
    "  max: ......................................................................... 1926.7\n",
    "  mean: ........................................................................ 1595.8\n",
    "  median: ...................................................................... 1587.9\n",
    "  p95: ......................................................................... 1587.9\n",
    "  p99: ......................................................................... 1587.9\n",
    "\n",
    "\n",
    "All VUs finished. Total time: 3 seconds\n",
    "```"
   ]
  },
  {
   "cell_type": "markdown",
   "id": "380cdc2d-ab75-4b2d-b79e-f5f7b955a91c",
   "metadata": {
    "slideshow": {
     "slide_type": "notes"
    }
   },
   "source": [
    "# Post Test Output\n",
    "\n",
    "```\n",
    "--------------------------------\n",
    "Summary report @ 14:47:08(+0100)\n",
    "--------------------------------\n",
    "\n",
    "http.codes.200: ................................................................ 3\n",
    "http.downloaded_bytes: ......................................................... 23\n",
    "http.request_rate: ............................................................. 3/sec\n",
    "http.requests: ................................................................. 3\n",
    "http.response_time:\n",
    "  min: ......................................................................... 1246\n",
    "  max: ......................................................................... 1897\n",
    "  mean: ........................................................................ 1578.3\n",
    "  median: ...................................................................... 1587.9\n",
    "  p95: ......................................................................... 1587.9\n",
    "  p99: ......................................................................... 1587.9\n",
    "http.responses: ................................................................ 3\n",
    "vusers.completed: .............................................................. 3\n",
    "vusers.created: ................................................................ 3\n",
    "vusers.created_by_name.TuKanoRegister: ......................................... 3\n",
    "vusers.failed: ................................................................. 0\n",
    "vusers.session_length:\n",
    "  min: ......................................................................... 1261.2\n",
    "  max: ......................................................................... 1926.7\n",
    "  mean: ........................................................................ 1595.8\n",
    "  median: ...................................................................... 1587.9\n",
    "  p95: ......................................................................... 1587.9\n",
    "  p99: ......................................................................... 1587.9\n",
    "```"
   ]
  },
  {
   "attachments": {},
   "cell_type": "markdown",
   "id": "ff5cfe6a-d31f-4b1d-b326-3d1e40596d7f",
   "metadata": {
    "slideshow": {
     "slide_type": "slide"
    }
   },
   "source": [
    "# Goals\n",
    "\n",
    "+ Use Artillery to test a small set of endpoints in the REST API.\n",
    "+ **Create one random test using JavaScript helper functions.**\n",
    "+ Expand the small example to test all of the TuKano endpoints.\n"
   ]
  },
  {
   "cell_type": "markdown",
   "id": "1a64bc45",
   "metadata": {
    "slideshow": {
     "slide_type": "slide"
    }
   },
   "source": [
    "# Randomizing User Details\n",
    "\n",
    "Now let's imagine we wanted an element of randomness to our test. In order to add randomness, we'll need to create some functionality in NodeJS which we will prompt our Artillery test to run. In this instance we'll start with some methods to create random usernames and passwords.\n",
    "\n",
    "```JavaScript\n",
    "function randomUser(char_limit){\n",
    "    const letters = 'abcdefghijklmnopqrstuvwxyz';\n",
    "    let username = '';\n",
    "    let num_chars = Math.floor(Math.random() * char_limit);\n",
    "    for (let i = 0; i < num_chars); i++) {\n",
    "        username += letters[Math.floor(Math.random() * letters.length);\n",
    "    }\n",
    "    return username;\n",
    "}\n",
    "```"
   ]
  },
  {
   "cell_type": "markdown",
   "id": "1fb05c4b-1880-4cfa-9eeb-37b5e62d92d4",
   "metadata": {
    "slideshow": {
     "slide_type": "slide"
    }
   },
   "source": [
    "# Randomizing User Details\n",
    "\n",
    "```JavaScript\n",
    "function randomPassword(pass_len){\n",
    "    const skip_value = 33;\n",
    "    const lim_values = 94;\n",
    "\n",
    "    let password = '';\n",
    "    let num_chars = Math.floor(Math.random() * pass_len);\n",
    "    for (let i = 0; i < pass_len; i++) {\n",
    "        let chosen_char =  Math.floor(Math.random() * lim_values) + skip_value;\n",
    "        if (chosen_char == \"'\" || chosen_char == '\"')\n",
    "            i -= 1;\n",
    "        else\n",
    "            password += chosen_char\n",
    "    }\n",
    "    return password;\n",
    "}\n",
    "```"
   ]
  },
  {
   "cell_type": "markdown",
   "id": "93324f35-9cb7-40b4-bb48-096b3cec29ff",
   "metadata": {
    "slideshow": {
     "slide_type": "slide"
    }
   },
   "source": [
    "# Randomizing User Details\n",
    "\n",
    "Now we need a function to tie all of these together.\n",
    "\n",
    "```JavaScript\n",
    "function uploadRandomizedUser(requestParams, context, ee, next) {\n",
    "    let username = randomUsername(10);\n",
    "    let pword = randomPassword(15);\n",
    "    let email = username + \"@campus.fct.unl.pt\";\n",
    "    let displayName = username;\n",
    "    \n",
    "    const user = {\n",
    "        userId: username,\n",
    "        pwd: pword,\n",
    "        email: email,\n",
    "        displayName: username\n",
    "    };\n",
    "    requestParams.body = JSON.stringify(user);\n",
    "    return next();\n",
    "} \n",
    "```\n",
    "The parameters to this function are things that will be passed by Artillery. Here we are modifying the request parameters to include the user JSON."
   ]
  },
  {
   "cell_type": "markdown",
   "id": "14011ee5-caf1-4c68-ae14-59ceac2bb09a",
   "metadata": {
    "slideshow": {
     "slide_type": "slide"
    }
   },
   "source": [
    "# Randomizing User Details\n",
    "\n",
    "We will also need a script to handle the server's response. \n",
    "```JavaScript\n",
    "function processRegisterReply(requestParams, response, context, ee, next) {\n",
    "    if( typeof response.body !== 'undefined' && response.body.length > 0) {\n",
    "        registeredUsers.push(response.body);\n",
    "    }\n",
    "    return next();\n",
    "} \n",
    "```\n",
    "In this case, registeredUsers is an array of users we have registered to the system."
   ]
  },
  {
   "cell_type": "markdown",
   "id": "a3b5c2dc-f989-4044-886c-3b4b39729dee",
   "metadata": {
    "slideshow": {
     "slide_type": "slide"
    }
   },
   "source": [
    "# Randomizing User Details\n",
    "\n",
    "Finally, we will set up our test case yaml file to call these functions. \n",
    "```yaml\n",
    "config:                                                                         \n",
    "  target: http://127.0.0.1:8080/tukano/rest\n",
    "  plugins:                                                                      \n",
    "    metrics-by-endpoint: {} # Used to get metrics for each endpoint individually.\n",
    "  processor: ./test-utils.js\n",
    "  phases:\n",
    "  - name: \"Warm up\"    # WARM UP PHASE: duration: 10s, starting with 1 new client/sec up to 5 new clients/sec\n",
    "    duration: 10\n",
    "    arrivalRate: 1\n",
    "    rampTo: 5\n",
    "  - name: \"Main test\"    # MAIN TESTS: duration: 30s, with 10 new clients/sec. Should be varied depending on scenario.\n",
    "    duration: 30\n",
    "    arrivalRate: 10\n",
    "```"
   ]
  },
  {
   "cell_type": "markdown",
   "id": "bbf6ec89-ca52-4be1-adac-313ab690ba86",
   "metadata": {
    "slideshow": {
     "slide_type": "slide"
    }
   },
   "source": [
    "# Randomizing User Details\n",
    "\n",
    "\n",
    "```yaml\n",
    "scenarios:\n",
    "  - name: 'Register user'\n",
    "    weight: 1\n",
    "    flow:\n",
    "      - post:\n",
    "          url: /users                                                         \n",
    "          headers:\n",
    "            Content-Type: application/json\n",
    "            Accept: application/json\n",
    "          beforeRequest: \"uploadRandomizedUser\"                                      \n",
    "          afterResponse: \"processRegisterReply\" \n",
    "```"
   ]
  },
  {
   "cell_type": "markdown",
   "id": "ccad7962-ee44-4ba7-ba39-6e6d442870aa",
   "metadata": {
    "slideshow": {
     "slide_type": "slide"
    }
   },
   "source": [
    "# Some More Features\n",
    "\n",
    "You'll notice the following field in the code above:\n",
    "\n",
    "```yaml\n",
    "scenarios:\n",
    "  ...\n",
    "    weight: 1\n",
    "  ...\n",
    "```\n",
    "\n",
    "Artillery works by assigning *virtual users* (VUs) to a given scenario. If no weight is specified, all scenarios are equally likely to receive a VU. However, we can change the probabilities by assigning weights to scenarios that we wish to happen more frequently. For example, it is more likely that a user will want to view a short than upload one. This could be useful in creating more realistic testing scenarios."
   ]
  },
  {
   "cell_type": "markdown",
   "id": "0eaa2e70-8e1e-4943-ad7f-0a2fd8c1ae4f",
   "metadata": {
    "slideshow": {
     "slide_type": "slide"
    }
   },
   "source": [
    "# Some More Features\n",
    "\n",
    "You'll also notice the following field in the code above:\n",
    "\n",
    "```yaml\n",
    "...\n",
    "plugins:\n",
    "    metrics-by-endpoint: {}\n",
    "  ...\n",
    "```\n",
    "\n",
    "Artillery provides plugins for us to be able to perform different actions more easily. For example, this line uses a plugin to change the way metrics are reported. By default, metrics are reported in aggregate, meaning the numbers we get are the results across all endpoints. In this case, by using the metrics-by-endpoint plugin we are splitting up and reporting our results per HTTP endpoint, allowing for a more fine-grained understanding of the performance of our application."
   ]
  },
  {
   "cell_type": "markdown",
   "id": "639a8cba-b3e6-4cd7-af52-71a9c52c4ce0",
   "metadata": {
    "slideshow": {
     "slide_type": "slide"
    }
   },
   "source": [
    "# Some More Features\n",
    "\n",
    "```\n",
    "--------------------------------------\n",
    "Metrics for period to: 14:49:50(+0100) (width: 9.005s)\n",
    "--------------------------------------\n",
    "\n",
    "http.codes.200: ................................................................ 76\n",
    "http.codes.409: ................................................................ 15\n",
    "http.downloaded_bytes: ......................................................... 420\n",
    "http.request_rate: ............................................................. 10/sec\n",
    "http.requests: ................................................................. 91\n",
    "...\n",
    "http.responses: ................................................................ 91\n",
    "plugins.metrics-by-endpoint./tukano/rest/users/.codes.200: ..................... 76\n",
    "plugins.metrics-by-endpoint./tukano/rest/users/.codes.409: ..................... 15\n",
    "plugins.metrics-by-endpoint.response_time./tukano/rest/users/:\n",
    "  min: ......................................................................... 2\n",
    "  max: ......................................................................... 10\n",
    "  mean: ........................................................................ 4.2\n",
    "  median: ...................................................................... 4\n",
    "  p95: ......................................................................... 7.9\n",
    "  p99: ......................................................................... 8.9\n",
    "...\n",
    "```"
   ]
  },
  {
   "attachments": {},
   "cell_type": "markdown",
   "id": "bf388108",
   "metadata": {
    "slideshow": {
     "slide_type": "slide"
    }
   },
   "source": [
    "# Code provided\n",
    "\n",
    "The code provided [scc2425-lab6-code.zip](scc2425-lab6-code.zip) is a simple set of Artillery tests with the necessary JavaScript functions to run them. \n",
    "\n",
    "You will need to ensure that you have TuKano deployed (check slide 7) and have Artillery intsalled (check slide 6). \n",
    "\n",
    "To run a test, just run the command\n",
    "\n",
    "```bash\n",
    "artillery run <test_yaml_file>\n",
    "```\n",
    "\n",
    "After running and ensuring everything works, please extend the tests to include all TuKano endpoints, and weight them to be more realistic to a real world deployment. "
   ]
  },
  {
   "attachments": {},
   "cell_type": "markdown",
   "id": "939c5bb3-95b2-4e16-a30f-d81e775da5b7",
   "metadata": {
    "slideshow": {
     "slide_type": "slide"
    }
   },
   "source": [
    "# Goals\n",
    "\n",
    "+ Use Artillery to test a small set of endpoints in the REST API.\n",
    "+ Create one random test using JavaScript helper functions.\n",
    "+ **Expand the small example to test all of the TuKano endpoints.**\n"
   ]
  }
 ],
 "metadata": {
  "celltoolbar": "Slideshow",
  "kernelspec": {
   "display_name": "Python 3 (ipykernel)",
   "language": "python",
   "name": "python3"
  },
  "language_info": {
   "codemirror_mode": {
    "name": "ipython",
    "version": 3
   },
   "file_extension": ".py",
   "mimetype": "text/x-python",
   "name": "python",
   "nbconvert_exporter": "python",
   "pygments_lexer": "ipython3",
   "version": "3.11.2"
  },
  "rise": {
   "theme": "sky"
  }
 },
 "nbformat": 4,
 "nbformat_minor": 5
}
