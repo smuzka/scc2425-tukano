{
 "cells": [
  {
   "cell_type": "code",
   "execution_count": null,
   "id": "829dc1a7",
   "metadata": {
    "slideshow": {
     "slide_type": "skip"
    }
   },
   "outputs": [],
   "source": [
    "!jupyter nbconvert --to html --TemplateExporter.exclude_code_cell=True --TemplateExporter.exclude_input_prompt=True --TemplateExporter.exclude_output_prompt=True scc2425-proj1-tukano.ipynb 2> /dev/null"
   ]
  },
  {
   "cell_type": "markdown",
   "id": "985abec6",
   "metadata": {
    "slideshow": {
     "slide_type": "slide"
    }
   },
   "source": [
    "# Cloud Computing Systems – 2024/25\n",
    "\n",
    "## Project Assigment #1\n",
    "\n",
    "Version: 29-10-2024, changes: removed Spark Computations. "
   ]
  },
  {
   "cell_type": "markdown",
   "id": "3b70e1cf",
   "metadata": {
    "slideshow": {
     "slide_type": "slide"
    }
   },
   "source": [
    "## Deadlines\n",
    "\n",
    "+ Code: November 3\n",
    "+ Report: November 10\n",
    "+ 1 grade point penalty per day late."
   ]
  },
  {
   "cell_type": "markdown",
   "id": "d931a22c",
   "metadata": {
    "slideshow": {
     "slide_type": "slide"
    }
   },
   "source": [
    "## Introduction\n",
    "\n",
    "The goal of this project is to understand how services available in cloud computing platforms can be used for creating applications that are scalable, fast, and highly available.\n",
    "\n",
    "The project will consist in porting an existing web application to the Microsoft Azure Cloud platform. To that end, the centralized solution that is provided will need to be modified to leverage the Azure PaaS portfolio, in ways that agree with current cloud computing engineering best practices.\n",
    "\n",
    "As part of the end result, besides the implementation code, a final report will need to explain the design choices and provide a performance evaluation of the solution, for at least two deployment scenarios. One scenario will match a web application with high popularity at a regional (continental) scale; the other targets a global scale, where the application will have users/clients spanning across multiple continents."
   ]
  },
  {
   "cell_type": "markdown",
   "id": "2a555656",
   "metadata": {
    "slideshow": {
     "slide_type": "slide"
    }
   },
   "source": [
    "## TuKano\n",
    "\n",
    "The starting point is a web application named **TuKano** that implements a social network inspired in existing video sharing services, such as [TikTok](https://en.wikipedia.org/wiki/TikTok) or [Youtube Shorts](https://en.wikipedia.org/wiki/YouTube_Shorts). TuKano users can upload short videos to be viewed (and liked) by other users of the plataform. The social network aspect of TuKano resides on having users *follow* other users, as the main way for the platform to populate the *feed* of shorts each user can visualize."
   ]
  },
  {
   "cell_type": "markdown",
   "id": "7ad3f097",
   "metadata": {
    "slideshow": {
     "slide_type": "slide"
    }
   },
   "source": [
    "### Architecture\n",
    "\n",
    "TuKano is organized as a three-tier architecture, where the application-tier, comprises three [REST](https://en.wikipedia.org/wiki/REST) services:\n",
    "\n",
    "+ Users - for managing users individual information;\n",
    "+ Shorts - for managing the shorts metadata and the social networking aspects, such as *users feeds*, *user follows* and *likes*.\n",
    "+ Blobs - for managing the media blobs that represent the actual videos.\n"
   ]
  },
  {
   "cell_type": "markdown",
   "id": "c9950db2",
   "metadata": {
    "slideshow": {
     "slide_type": "slide"
    }
   },
   "source": [
    "### Workflow \n",
    "\n",
    "One issue to consider is that uploading a short video is performed in two steps, as follows:\n",
    "The **Shorts** service is contacted to create the *metadata* that will be associated with the *short video*. This is represented by a ***Short*** object. The returned *metadata* contains the URL where the short video media needs to be uploaded to. This URL points to the upload endpoint in **Blobs** service and includes a **token** to ensure the safety of the upload procedure. Namely, the upload operation needs to match a short that has been created through the proper endpoint and the upload must occur within the allowed time limit.\n",
    "\n",
    "Following a user has the side-effect of populating the **feed** of follower with the shorts of the followee."
   ]
  },
  {
   "cell_type": "markdown",
   "id": "62d6a733",
   "metadata": {
    "slideshow": {
     "slide_type": "slide"
    }
   },
   "source": [
    "### Source Code\n",
    "\n",
    "The Java source code of the application can be found [here](https://github.com/smduarte/scc2425/tree/main/scc2425-tukano).\n",
    "\n",
    "This version of TuKano consists of a single application server (web server) to host the three services together. (Unlike the original version, where the three services executed in dedicated servers and relied on a discovery mechanism to find each other).\n",
    "\n",
    "Other adaptations introduced to the original source code are:\n",
    "+ Services reference each other directly by normal method calls via *getInstance()* methods (instead of relying on REST clients).\n",
    "+ Shorts database \"persistence\" has been configured in [hibernate.cfg.xml](https://github.com/smduarte/scc2425/blob/main/scc2425-tukano/hibernate.cfg.xml) to use memory instead of a local filesystem directory."
   ]
  },
  {
   "cell_type": "markdown",
   "id": "c730ce79",
   "metadata": {
    "slideshow": {
     "slide_type": "slide"
    }
   },
   "source": [
    "#### Endpoints\n",
    "\n",
    "The service endpoints are documented under [tukano.api](https://github.com/smduarte/scc2425/tree/main/scc2425-tukano/src/main/java/tukano/api). \n",
    "\n",
    "Java interfaces are used to model the abstract semantics of the TuKano services' operations, whereas the actual REST enpoints can be found in [tukano.api.rest](https://github.com/smduarte/scc2425/tree/main/scc2425-tukano/src/main/java/tukano/api/rest). \n",
    "\n",
    "These endpoints are already implemented in the provided code at the application-layer. The goal is to replace the data-layer currently used with suitable services from the Azure Cloud Platform, without affecting the semantics of the endpoints exposed to the hypothetical presentation-layer (clients)."
   ]
  },
  {
   "cell_type": "markdown",
   "id": "50d0a9e1",
   "metadata": {
    "slideshow": {
     "slide_type": "notes"
    }
   },
   "source": [
    "Note: Small \"tweaks\" to endpoint semantics are allowed, for example, to account for user authentication or match token expiration values to the Azure platform. If deemed relevant, they should be discussed in the final report. "
   ]
  },
  {
   "cell_type": "markdown",
   "id": "9d19ab6b",
   "metadata": {
    "slideshow": {
     "slide_type": "slide"
    }
   },
   "source": [
    "## Deliverables\n",
    "\n",
    "The project assignment consists of two deliverables.\n",
    "\n",
    "+ The source code of the TuKano backend ported to the Azure Cloud platform made available as a GitHub repository and the commit point representing the finished solution;\n",
    "\n",
    "+ A written report describing the ported solution and explaining how it leverages the Azure PaaS portfolio. This report should also provide a performance evaluation of the solution. The performance analysis should strive to objetively show the impact of the design choices and services on performance metrics such as throughput and operation latency. To that end, the base TuKano application should be used as the baseline for any comparisons. "
   ]
  },
  {
   "cell_type": "markdown",
   "id": "c50d9624",
   "metadata": {
    "slideshow": {
     "slide_type": "slide"
    }
   },
   "source": [
    "## Minimum Requirements (up to 13)\n",
    "\n",
    "The ported TuKano application must use [Azure Blob Storage](https://azure.microsoft.com/en-us/products/storage/blobs), [Azure Cosmos DB](https://azure.microsoft.com/en-us/products/cosmos-db), [Azure Cache for Redis](https://azure.microsoft.com/en-us/products/cache)\n",
    "\n",
    "Performance analysis for a single geographic region (Europe).\n",
    "\n",
    "Notes:\n",
    "\n",
    "+ Azure Cosmos DB for PostgreSQL + Hibernate can be used to fulfil the CosmosDB requirement.\n",
    "+ The impact on performance of using a cache (or not) should be included in the performance analysis report."
   ]
  },
  {
   "cell_type": "markdown",
   "id": "7de52c97",
   "metadata": {
    "slideshow": {
     "slide_type": "slide"
    }
   },
   "source": [
    "## Base Solution (up to 15)\n",
    "\n",
    "### NoSQL vs SQL\n",
    "\n",
    "The solution supports two alternative persistence storage backends for the *Shorts* and *Users* databases: CosmosDB NoSQL and CosmosDB for PostgreSQL.\n",
    "\n",
    "+ The impact on performance/latency of using each backend should be analysed, with or without cache.\n",
    "\n",
    "### User Session\n",
    "\n",
    "Include support for authenticated users via cookies stored in the cache."
   ]
  },
  {
   "cell_type": "markdown",
   "id": "aab03fee",
   "metadata": {
    "slideshow": {
     "slide_type": "slide"
    }
   },
   "source": [
    "## Advanced Features (up to 20)\n",
    "\n",
    "Below are advanced features that can be implemented for an improved grade.\n",
    "\n",
    "#### Geo-Replication support\n",
    "\n",
    "The solution has support for geo-replicated deployment, implying the TuKano userbase spans multiple geographic regions.\n",
    "\n",
    "+ The impact on performance/latency of of geo-replicated scenario should be analysed, using at least two regions: Europe and North America.\n",
    "\n",
    "#### Couting Views\n",
    "\n",
    "Shorts metadata is extended with ***total views*** statistics, refreshed as fast as feasible. Views should be incremented based on blob downloads. Views counters should grow monotonically.\n",
    "\n",
    "+ Must leverage Azure services, not rely solely on application server logic.\n",
    "\n",
    "#### Tukano Recomends\n",
    "\n",
    "Every user automatically follows a system managed user named \"Tukano Recomends\". This user will republish selected content from the collection of shorts publish by general TuKano userbase. The criteria from choosing which videos are select open.\n",
    "\n",
    "+ Must leverage Azure services, not rely solely on application server logic.\n",
    "\n",
    "\n",
    "## Azure Functions ~~and (Spark) Computations-~\n",
    "\n",
    "The solution makes use of Azure Functions ~~and/or  (Spark) Computations~~ in a meaninful way. For example,\n",
    "the advanced features listed above are implemented with the help of one or both technologies."
   ]
  },
  {
   "cell_type": "markdown",
   "id": "9475b548",
   "metadata": {
    "slideshow": {
     "slide_type": "slide"
    }
   },
   "source": [
    "# Grading\n",
    "\n",
    "Grading will take into acount: code quality, soundness and merit of the design choices, quality and depth of the report. This includes the methodology and analysis of the resuls from the experimental evaluation of the delivered solution.\n",
    "\n",
    "Selected projects may have to be defended in person, in an oral discussion. When justified, separate individual grades will be assigned.  \n",
    "\n",
    "# Penalties\n",
    "\n",
    "Lack of evidence, for example in the Github repository, of a meaninful contribution to the solution on an individual student basis.\n",
    "\n",
    "Excessive use or undisclosed use of AI tools."
   ]
  }
 ],
 "metadata": {
  "celltoolbar": "Slideshow",
  "kernelspec": {
   "display_name": "Python 3 (ipykernel)",
   "language": "python",
   "name": "python3"
  },
  "language_info": {
   "codemirror_mode": {
    "name": "ipython",
    "version": 3
   },
   "file_extension": ".py",
   "mimetype": "text/x-python",
   "name": "python",
   "nbconvert_exporter": "python",
   "pygments_lexer": "ipython3",
   "version": "3.10.9"
  }
 },
 "nbformat": 4,
 "nbformat_minor": 5
}
