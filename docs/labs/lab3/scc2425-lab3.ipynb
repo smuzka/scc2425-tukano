{
 "cells": [
  {
   "cell_type": "code",
   "execution_count": 1,
   "id": "0cbec22e",
   "metadata": {
    "slideshow": {
     "slide_type": "skip"
    }
   },
   "outputs": [],
   "source": [
    "\n",
    "!jupyter nbconvert --to html --TemplateExporter.exclude_code_cell=True --TemplateExporter.exclude_input_prompt=True --TemplateExporter.exclude_output_prompt=True scc2425-lab3.ipynb 2> /dev/null\n",
    "!jupyter nbconvert --to slides --TemplateExporter.exclude_input_prompt=True --TemplateExporter.exclude_output_prompt=True scc2425-lab3.ipynb 2> /dev/null"
   ]
  },
  {
   "cell_type": "markdown",
   "id": "b3f0f5fd",
   "metadata": {
    "slideshow": {
     "slide_type": "slide"
    }
   },
   "source": [
    "# Cloud Computing Systems\n",
    "## 2024/25\n",
    "\n",
    "Lab 3\n",
    "https://smduarte.github.io/scc2425/\n",
    "\n",
    "Sérgio Duarte, Kevin Gallagher "
   ]
  },
  {
   "cell_type": "markdown",
   "id": "05850652",
   "metadata": {
    "slideshow": {
     "slide_type": "slide"
    }
   },
   "source": [
    "# Goals\n",
    "\n",
    "+ Create a Cosmos DB account / database and container @ Azure;\n",
    "+ Create the resources for the project by storing data at Azure Cosmos DB;\n",
    "+ Start converting Tukano to leverage CosmosDB NoSQL"
   ]
  },
  {
   "cell_type": "markdown",
   "id": "9af755e8",
   "metadata": {
    "slideshow": {
     "slide_type": "slide"
    }
   },
   "source": [
    "# Goals\n",
    "\n",
    "+ **Create a Cosmos DB account / database and container @ Azure;**\n",
    "+ Start converting Tukano to leverage CosmosDB NoSQL"
   ]
  },
  {
   "cell_type": "markdown",
   "id": "3b9d470e",
   "metadata": {
    "slideshow": {
     "slide_type": "slide"
    }
   },
   "source": [
    "# Add CosmosDB Account (1)\n",
    "\n",
    "<img src=\"cosmosdb-1.png\" width=\"75%\"></img>"
   ]
  },
  {
   "cell_type": "markdown",
   "id": "39ff7192",
   "metadata": {
    "slideshow": {
     "slide_type": "slide"
    }
   },
   "source": [
    "# Add CosmosDB Account (2)\n",
    "\n",
    "<img src=\"cosmosdb-2.png\" width=\"75%\"></img>"
   ]
  },
  {
   "cell_type": "markdown",
   "id": "96bd600e",
   "metadata": {
    "slideshow": {
     "slide_type": "slide"
    }
   },
   "source": [
    "# Add CosmosDB Account (3)\n",
    "\n",
    "<img src=\"cosmosdb-3.png\" width=\"75%\"></img>"
   ]
  },
  {
   "cell_type": "markdown",
   "id": "716169ad",
   "metadata": {
    "slideshow": {
     "slide_type": "slide"
    }
   },
   "source": [
    "# Add CosmosDB Account (4)\n",
    "\n",
    "<img src=\"cosmosdb-4.png\" width=\"75%\"></img>"
   ]
  },
  {
   "cell_type": "markdown",
   "id": "764b68bd",
   "metadata": {
    "slideshow": {
     "slide_type": "slide"
    }
   },
   "source": [
    "# Add CosmosDB Account (5)\n",
    "\n",
    "<img src=\"cosmosdb-5.png\" width=\"75%\"></img>"
   ]
  },
  {
   "cell_type": "markdown",
   "id": "f1988abd",
   "metadata": {
    "slideshow": {
     "slide_type": "slide"
    }
   },
   "source": [
    "# Add CosmosDB Account (6)\n",
    "\n",
    "<img src=\"cosmosdb-6.png\" width=\"75%\"></img>"
   ]
  },
  {
   "cell_type": "markdown",
   "id": "8a11c61e",
   "metadata": {
    "slideshow": {
     "slide_type": "slide"
    }
   },
   "source": [
    "# Add CosmosDB Account (7)\n",
    "\n",
    "<img src=\"cosmosdb-7.png\" width=\"75%\"></img>"
   ]
  },
  {
   "cell_type": "markdown",
   "id": "1d7db938",
   "metadata": {
    "slideshow": {
     "slide_type": "notes"
    }
   },
   "source": [
    "Note: This takes time...a several minutes sometimes."
   ]
  },
  {
   "cell_type": "markdown",
   "id": "93ebc695",
   "metadata": {
    "slideshow": {
     "slide_type": "slide"
    }
   },
   "source": [
    "# Add Database + Container (1)\n",
    "\n",
    "<img src=\"cosmosdb-8.png\" width=\"75%\"></img>"
   ]
  },
  {
   "cell_type": "markdown",
   "id": "bf9cbdb2",
   "metadata": {
    "slideshow": {
     "slide_type": "slide"
    }
   },
   "source": [
    "# Add Database + Container (2)\n",
    "\n",
    "<img src=\"cosmosdb-9.png\" width=\"75%\"></img>\n",
    "\n",
    "### A database may include a set of containers. A container can be a *collection*, *table*, *graph*, etc."
   ]
  },
  {
   "cell_type": "markdown",
   "id": "67643571",
   "metadata": {
    "slideshow": {
     "slide_type": "slide"
    }
   },
   "source": [
    "# Add Database + Container (3)\n",
    "\n",
    "<img src=\"cosmosdb-10.png\" width=\"75%\"></img>\n",
    "\n",
    "A container is **horizontally partitioned** across multiple machines according to the **partition key**.\n"
   ]
  },
  {
   "cell_type": "markdown",
   "id": "ac0221f5",
   "metadata": {
    "slideshow": {
     "slide_type": "slide"
    }
   },
   "source": [
    "# Add Database + Container (4)\n",
    "\n",
    "Cosmos DB throughput is provisioned. \n",
    "\n",
    "Better use at the database level: ***first 1000 RU/s are free***.\n",
    "\n",
    "**Minimum**: 400 RU/s.\n",
    "\n",
    "Reading 1 KB document costs 1 RU.\n",
    "\n",
    "[Info on request units](https://docs.microsoft.com/en-us/azure/cosmos-db/request-units)"
   ]
  },
  {
   "cell_type": "markdown",
   "id": "46b15ced",
   "metadata": {
    "slideshow": {
     "slide_type": "-"
    }
   },
   "source": [
    "<img src=\"cosmosdb-11.png\" width=\"45%\"></img>"
   ]
  },
  {
   "cell_type": "markdown",
   "id": "631d6b3b",
   "metadata": {
    "slideshow": {
     "slide_type": "slide"
    }
   },
   "source": [
    "# Add Database + Container (5)\n",
    "\n",
    "By default, CosmosDB indexes every property, of every item, and enforces range indexes for any string or number in all containers.\n",
    "\n",
    "It is possible to override the default policy by:\n",
    "\n",
    "+ Overriding the indexing mode: support for consistent, lazy (where indices are updated in background), none;\n",
    "\n",
    "+ Specifying that some properties do not need to be indexed, using the exclude path.\n"
   ]
  },
  {
   "cell_type": "markdown",
   "id": "bb33a7f8",
   "metadata": {
    "slideshow": {
     "slide_type": "slide"
    }
   },
   "source": [
    "# Add Database + Container (6)\n",
    "\n",
    "<img src=\"cosmosdb-12-1.png\" width=\"45%\"></img>"
   ]
  },
  {
   "cell_type": "markdown",
   "id": "9230a1e9",
   "metadata": {
    "slideshow": {
     "slide_type": "slide"
    }
   },
   "source": [
    "<img src=\"cosmosdb-12-2.png\" width=\"45%\"></img>\n",
    "### The partition key allows to control which items will be co-located..."
   ]
  },
  {
   "cell_type": "markdown",
   "id": "0cb53407",
   "metadata": {
    "slideshow": {
     "slide_type": "notes"
    }
   },
   "source": [
    "Note: Some data models support \"transactions\", often with limitations, where atomic updates are only available for items belonging to the same partition. The partition key is important for this kind of usage."
   ]
  },
  {
   "cell_type": "markdown",
   "id": "15ff37b6",
   "metadata": {
    "slideshow": {
     "slide_type": "slide"
    }
   },
   "source": [
    "# Cosmos DB account: access keys (for code)\n",
    "\n",
    "<img src=\"cosmosdb-13.png\" width=\"75%\"></img>"
   ]
  },
  {
   "cell_type": "markdown",
   "id": "b8e21a18",
   "metadata": {
    "slideshow": {
     "slide_type": "slide"
    }
   },
   "source": [
    "# Goals\n",
    "\n",
    "+ Create a Cosmos DB account / database and container @ Azure;\n",
    "+ **Create the resources for the project by storing data at Azure Cosmos DB;**\n",
    "+ Start converting Tukano to leverage CosmosDB NoSQL"
   ]
  },
  {
   "cell_type": "markdown",
   "id": "1d1fb185",
   "metadata": {
    "slideshow": {
     "slide_type": "slide"
    }
   },
   "source": [
    "# Accessing Cosmos DB: useful links\n",
    "\n",
    "We will use the library provided by Microsoft.\n",
    "\n",
    "Java Docs available at:\n",
    "\n",
    "+ [https://azuresdkdocs.blob.core.windows.net/web/java/azure-cosmos/latest/index.html](https://azuresdkdocs.blob.core.windows.net/web/java/azure-cosmos/latest/index.html)\n",
    "\n",
    "Overview on how to use at:\n",
    "\n",
    "+ [https://docs.microsoft.com/en-us/azure/cosmos-db/create-sql-api-java](https://docs.microsoft.com/en-us/azure/cosmos-db/create-sql-api-java)\n",
    "\n",
    "Cosmos DB SQL cheat sheet:\n",
    "\n",
    "+ [https://go.microsoft.com/fwlink/?LinkId=623215](https://go.microsoft.com/fwlink/?LinkId=623215)\n"
   ]
  },
  {
   "cell_type": "markdown",
   "id": "8ed6fbea",
   "metadata": {
    "slideshow": {
     "slide_type": "slide"
    }
   },
   "source": [
    "# Goals\n",
    "\n",
    "+ Create a StorageAccount + Blob Container @ Azure;**\n",
    "+ **Rewrite last week's sample project to use the blob storage service**\n",
    "+ Start converting Tukano to leverage Azure"
   ]
  },
  {
   "cell_type": "markdown",
   "id": "9b740dba",
   "metadata": {
    "slideshow": {
     "slide_type": "slide"
    }
   },
   "source": [
    "# Maven dependencies\n",
    "\n",
    "```xml\n",
    "\t<dependency>\n",
    "\t\t<groupId>com.azure</groupId>\n",
    "\t\t<artifactId>azure-cosmos</artifactId>\n",
    "\t\t<version>4.63.3</version>\n",
    "\t</dependency>\n",
    "\t<dependency>\n",
    "\t\t<groupId>org.slf4j</groupId>\n",
    "\t\t<artifactId>slf4j-api</artifactId>\n",
    "\t\t<version>2.0.16</version>\n",
    "\t</dependency>\n",
    "\t<dependency>\n",
    "\t\t<groupId>org.slf4j</groupId>\n",
    "\t\t<artifactId>slf4j-simple</artifactId>\n",
    "\t\t<version>2.0.16</version>\n",
    "\t</dependency>\n",
    "```"
   ]
  },
  {
   "cell_type": "markdown",
   "id": "480b4239",
   "metadata": {
    "slideshow": {
     "slide_type": "slide"
    }
   },
   "source": [
    "# Step 1: create client to cosmos DB (1)\n",
    "\n",
    "```java\n",
    "    private static final String CONNECTION_URL = ...; // Replace with values from the Azure portal\n",
    "    private static final String DB_KEY = ... \n",
    "    private static final String DB_NAME = ...;\n",
    "```"
   ]
  },
  {
   "cell_type": "markdown",
   "id": "fed6630a",
   "metadata": {
    "slideshow": {
     "slide_type": "slide"
    }
   },
   "source": [
    "# Step 1: create client to cosmos DB (1)\n",
    "\n",
    "```java\n",
    "    CosmosClient client = new CosmosClientBuilder()\n",
    "         .endpoint(CONNECTION_URL)\n",
    "         .key(DB_KEY)\n",
    "         .directMode() // comment this if not to use direct mode\n",
    "         .consistencyLevel(ConsistencyLevel.SESSION)\n",
    "         .connectionSharingAcrossClientsEnabled(true)\n",
    "         .contentResponseOnWriteEnabled(true) // On write, return the object written\n",
    "         .buildClient();\n",
    "```"
   ]
  },
  {
   "cell_type": "markdown",
   "id": "3356576c",
   "metadata": {
    "slideshow": {
     "slide_type": "slide"
    }
   },
   "source": [
    "# Step 2: get reference to container\n",
    "\n",
    "```java\n",
    "static String CONTAINER_NAME = \"users\";\n",
    "\n",
    "db = client.getDatabase(DB_NAME);\n",
    "users = db.getContainer( CONTAINER_NAME);\n",
    "\n",
    "```"
   ]
  },
  {
   "cell_type": "markdown",
   "id": "64256dd1",
   "metadata": {
    "slideshow": {
     "slide_type": "slide"
    }
   },
   "source": [
    "# Step 3: User Class\n",
    "\n",
    "```java\n",
    "public class User {\n",
    "\t\n",
    "\tprivate String id;\n",
    "\tprivate String pwd;\n",
    "\tprivate String email;\t\n",
    "\tprivate String displayName;\n",
    "\n",
    "    ...\n",
    "```"
   ]
  },
  {
   "cell_type": "markdown",
   "id": "1b5d02a0",
   "metadata": {
    "slideshow": {
     "slide_type": "slide"
    }
   },
   "source": [
    "# Step 3: User Class (What's actually stored)\n",
    "\n",
    "```java\n",
    "public class User {\n",
    "\tprivate String _rid; // Cosmos generated unique id of item\n",
    "\tprivate String _ts; // timestamp of the last update to the item\n",
    "\n",
    "\tprivate String id;\n",
    "\tprivate String pwd;\n",
    "\tprivate String email;\t\n",
    "\tprivate String displayName;\n",
    "\n",
    "    ...\n",
    "```"
   ]
  },
  {
   "cell_type": "markdown",
   "id": "6b3f6514",
   "metadata": {
    "slideshow": {
     "slide_type": "slide"
    }
   },
   "source": [
    "```java\n",
    "\tprivate String _rid; // Cosmos generated unique id of item\n",
    "\tprivate String _ts; // timestamp of the last update to the item\n",
    "```\n",
    "\n",
    "Include these fields in your database objects (when reading into) if your application considers this information useful, for instance to manage a cache.\n",
    "\n",
    "It is possible to use two classes, one that includes the CosmosDB fields, the other without them. The drawback is the need to add methods/constructors to perform conversions between the two types.\n",
    "\n",
    "It is also possible to class inheritance, by defining the other class to extend the User class by including the new fields. Check the sample code, for an actual example."
   ]
  },
  {
   "cell_type": "markdown",
   "id": "ee65e27c",
   "metadata": {},
   "source": [
    "# Step 4: write an item\n",
    "\n",
    "```java\n",
    "CosmosItemResponse<User> res = users.createItem(u);\n",
    "if( res.getStatusCode() < 300)\n",
    "\treturn res.getItem();\n",
    "else\n",
    "\tthrow new Exception(\"ERROR:\" + res.getStatusCode());    \n",
    "```"
   ]
  },
  {
   "cell_type": "markdown",
   "id": "a151a432",
   "metadata": {
    "slideshow": {
     "slide_type": "notes"
    }
   },
   "source": [
    "Note: Calls return HTTP status codes that indicate *success* (2XX) or *failure* (>=300)"
   ]
  },
  {
   "cell_type": "markdown",
   "id": "5f14c12b",
   "metadata": {
    "slideshow": {
     "slide_type": "slide"
    }
   },
   "source": [
    "# Step 5: read items\n",
    "\n",
    "```java\n",
    "CosmosPagedIterable<User> res = users.queryItems(\n",
    "\t\"SELECT * FROM users WHERE users.id=\\\"\" + id + \"\\\"\", \n",
    "    new CosmosQueryRequestOptions(), User.class);\n",
    "\n",
    "for(User u : res) {\n",
    "\tSystem.out.println(u);\n",
    "}\n",
    "```"
   ]
  },
  {
   "cell_type": "markdown",
   "id": "0afe6066",
   "metadata": {
    "slideshow": {
     "slide_type": "notes"
    }
   },
   "source": [
    "Note: Despite choosing a NoSQL database backend, CosmosDB provides a query language that is a subset dialect of SQL."
   ]
  },
  {
   "cell_type": "markdown",
   "id": "ebb593e9",
   "metadata": {
    "slideshow": {
     "slide_type": "slide"
    }
   },
   "source": [
    "# Additional Nodes\n",
    "\n",
    "Is it possible to access a Cosmos DB from a program running in my machine?\n",
    "\n",
    "**Yes**. The example provided does that.\n",
    "\n",
    "NOTE: This is particularly useful for getting the code correct.\n",
    "\n",
    "Is it possible to use Cosmos DB with other data models, for instance SQL?\n",
    "\n",
    "**Yes**. Check the documentation.\n"
   ]
  },
  {
   "cell_type": "markdown",
   "id": "dc498b4e",
   "metadata": {
    "slideshow": {
     "slide_type": "slide"
    }
   },
   "source": [
    "# Sample Code\n",
    "\n",
    "The code provided [scc2425-lab3.zip](scc2425-lab3.zip) is a Maven project for interfacing with CosmosDB (directly).\n",
    "\n",
    "For testing it in the command line, just run:\n",
    "\n",
    "```mvn clean compile assembly:single```\n",
    "\n",
    "This will compile and create a single file with all compiled classes and dependencies.\n",
    "\n",
    "Run the program as follows:\n",
    "\n",
    "```java -cp target/scc2425-lab3-1.0-jar-with-dependencies.jar scc.utils.TestUsers```"
   ]
  },
  {
   "cell_type": "markdown",
   "id": "f12b423c",
   "metadata": {
    "slideshow": {
     "slide_type": "slide"
    }
   },
   "source": [
    "# Goals\n",
    "\n",
    "+ Create a Cosmos DB account / database and container @ Azure;\n",
    "+ Create the resources for the project by storing data at Azure Cosmos DB;\n",
    "+ **Start converting Tukano to leverage CosmosDB NoSQL**"
   ]
  }
 ],
 "metadata": {
  "celltoolbar": "Slideshow",
  "kernelspec": {
   "display_name": "Python 3 (ipykernel)",
   "language": "python",
   "name": "python3"
  },
  "language_info": {
   "codemirror_mode": {
    "name": "ipython",
    "version": 3
   },
   "file_extension": ".py",
   "mimetype": "text/x-python",
   "name": "python",
   "nbconvert_exporter": "python",
   "pygments_lexer": "ipython3",
   "version": "3.10.9"
  },
  "rise": {
   "theme": "sky"
  }
 },
 "nbformat": 4,
 "nbformat_minor": 5
}
