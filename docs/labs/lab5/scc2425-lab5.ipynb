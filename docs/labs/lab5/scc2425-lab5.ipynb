{
 "cells": [
  {
   "cell_type": "code",
   "execution_count": 3,
   "id": "0cbec22e",
   "metadata": {
    "slideshow": {
     "slide_type": "skip"
    }
   },
   "outputs": [],
   "source": [
    "\n",
    "!jupyter nbconvert --to html --TemplateExporter.exclude_code_cell=True --TemplateExporter.exclude_input_prompt=True --TemplateExporter.exclude_output_prompt=True scc2425-lab5.ipynb 2> /dev/null\n",
    "!jupyter nbconvert --to slides --TemplateExporter.exclude_input_prompt=True --TemplateExporter.exclude_output_prompt=True scc2425-lab5.ipynb 2> /dev/null"
   ]
  },
  {
   "cell_type": "markdown",
   "id": "b3f0f5fd",
   "metadata": {
    "slideshow": {
     "slide_type": "slide"
    }
   },
   "source": [
    "# Cloud Computing Systems\n",
    "## 2024/25\n",
    "\n",
    "Lab 5\n",
    "https://smduarte.github.io/scc2425/\n",
    "\n",
    "Sérgio Duarte, Kevin Gallagher "
   ]
  },
  {
   "attachments": {},
   "cell_type": "markdown",
   "id": "05850652",
   "metadata": {
    "slideshow": {
     "slide_type": "slide"
    }
   },
   "source": [
    "# Goals\n",
    "\n",
    "+ Create Azure Functions in Java and deploy them in the Azure Cloud Platform\n"
   ]
  },
  {
   "cell_type": "markdown",
   "id": "3b9d470e",
   "metadata": {
    "slideshow": {
     "slide_type": "slide"
    }
   },
   "source": [
    "# Azure Functions\n",
    "\n",
    "### Brochure selling points\n",
    "\n",
    "Azure Functions is a **serverless** solution that allows you to write less code, \n",
    "**maintain less infrastructure**, and save on costs. \n",
    "\n",
    "Instead of worrying about deploying and maintaining servers, the cloud infrastructure \n",
    "***provides all the up-to-date resources*** needed to keep your applications running.\n",
    "\n",
    "You focus on the code that matters most to you, in the most productive language for you, and Azure Functions handles the rest."
   ]
  },
  {
   "attachments": {},
   "cell_type": "markdown",
   "id": "1d1fb185",
   "metadata": {
    "slideshow": {
     "slide_type": "slide"
    }
   },
   "source": [
    "# Documentation\n",
    "\n",
    "\n",
    "### Azure documentation on writing functions in Java:\n",
    "\n",
    "[https://docs.microsoft.com/en-us/azure/azure-functions/functions-reference-java](https://docs.microsoft.com/en-us/azure/azure-functions/functions-reference-java)\n",
    "\n",
    "### Triggers and bindings:\n",
    "\n",
    "#### Timer\n",
    "[https://docs.microsoft.com/en-us/azure/azure-functions/functions-bindings-timer?tabs=java](https://docs.microsoft.com/en-us/azure/azure-functions/functions-bindings-timer?tabs=java)\n",
    "\n",
    "#### HTTP\n",
    "[https://docs.microsoft.com/en-us/azure/azure-functions/functions-bindings-http-webhook](https://docs.microsoft.com/en-us/azure/azure-functions/functions-bindings-http-webhook)\n",
    "\n",
    "#### Blob storage\n",
    "[https://docs.microsoft.com/en-us/azure/azure-functions/functions-bindings-storage-blob](https://docs.microsoft.com/en-us/azure/azure-functions/functions-bindings-storage-blob)\n",
    "\n",
    "#### CosmosDB\n",
    "[https://docs.microsoft.com/en-us/azure/azure-functions/functions-bindings-cosmosdb-v2](https://docs.microsoft.com/en-us/azure/azure-functions/functions-bindings-cosmosdb-v2)"
   ]
  },
  {
   "attachments": {},
   "cell_type": "markdown",
   "id": "0c651ba8",
   "metadata": {
    "slideshow": {
     "slide_type": "slide"
    }
   },
   "source": [
    "# Create a project for the functions\n",
    "\n",
    "## Alternative #1\n",
    "\n",
    "Use the sample project provided: [scc2425-lab5-code.zip](scc2425-lab5-code.zip).\n",
    "\n",
    "\n",
    "## Alternative #2\n",
    "\n",
    "Execute the command below on an empty directory:\n",
    "\n",
    "`mvn archetype:generate -DarchetypeGroupId=com.microsoft.azure -DarchetypeArtifactId=azure-functions-archetype`\n"
   ]
  },
  {
   "attachments": {},
   "cell_type": "markdown",
   "id": "c9c0de5a",
   "metadata": {
    "slideshow": {
     "slide_type": "slide"
    }
   },
   "source": [
    "# Configuration of pom.xml\n",
    "\n",
    "The properties below need to be updated...\n",
    "```xml\n",
    "\t\t<functionAppName>funxxxxxxnortheurope</functionAppName>\n",
    "\t\t<functionRegion>northeurope</functionRegion>\n",
    "\t\t<functionStorageAccountName>stoxxxxxxnortheurope</functionStorageAccountName>\n",
    "\t\t<functionResourceGroup>rgxxxxxx-northeurope</functionResourceGroup>\n",
    "```\n",
    "\n",
    "Pay attention to how the various resources are named. They need to be adapted\n",
    "to match your deployment. Replace xxxxxx with your student id."
   ]
  },
  {
   "cell_type": "markdown",
   "id": "86aea3c4",
   "metadata": {
    "slideshow": {
     "slide_type": "notes"
    }
   },
   "source": [
    "The resources names above follow the convention that is implemented in the project \n",
    "that will help with automatic deployment of multiple resources: [scc2425-mgt-code.zip](scc2425-mgt-code.zip)."
   ]
  },
  {
   "attachments": {},
   "cell_type": "markdown",
   "id": "cc6aa088",
   "metadata": {
    "slideshow": {
     "slide_type": "slide"
    }
   },
   "source": [
    "# Azure Functions Examples\n",
    "\n",
    "#### HttpTrigger\n",
    "\n",
    "+ React to HTTP requests that match a given pattern. \n",
    "\n",
    "#### TimerTrigger\n",
    "\n",
    "+ Implement periodic actions.\n",
    "\n",
    "####  BlobTrigger\n",
    "\n",
    "+ React to Blob Storage uploads with filenames that match a given pattern. \n",
    "\n",
    "#### CosmosDBTrigger\n",
    "\n",
    "+ Reach to CosmosDB container updates\n"
   ]
  },
  {
   "cell_type": "markdown",
   "id": "01c56bb4",
   "metadata": {
    "slideshow": {
     "slide_type": "slide"
    }
   },
   "source": [
    "# Http Function Example\n",
    "```java\n",
    "public class HttpFunction {\n",
    "\tprivate static final String TEXT = \"text\";\n",
    "\tprivate static final String HTTP_TRIGGER_NAME=\"req\";\n",
    "\tprivate static final String HTTP_FUNCTION_NAME=\"HttpExample\";\n",
    "\tprivate static final String HTTP_TRIGGER_ROUTE=\"serverless/echo/{\" + TEXT + \"}\";\n",
    "\t\n",
    "\t@FunctionName(HTTP_FUNCTION_NAME)\n",
    "    public HttpResponseMessage run(\n",
    "            @HttpTrigger(\n",
    "                name = HTTP_TRIGGER_NAME,\n",
    "                methods = {HttpMethod.GET, HttpMethod.POST},\n",
    "                authLevel = AuthorizationLevel.ANONYMOUS,\n",
    "                route = HTTP_TRIGGER_ROUTE)\n",
    "                HttpRequestMessage<Optional<String>> request,\n",
    "                @BindingName(TEXT) String text,\n",
    "            final ExecutionContext context) {\n",
    "        context.getLogger().info(\"Java HTTP trigger processed a request.\");\n",
    "        return request.createResponseBuilder(HttpStatus.OK).body(\"Hello, \" + text).build();\n",
    "    }\n",
    "}\n",
    "```"
   ]
  },
  {
   "cell_type": "markdown",
   "id": "075fa552",
   "metadata": {
    "slideshow": {
     "slide_type": "notes"
    }
   },
   "source": [
    "**Documentation:**\n",
    "\n",
    "[https://docs.microsoft.com/en-us/azure/azure-functions/functions-bindings-http-webhook-trigger?tabs=java](https://docs.microsoft.com/en-us/azure/azure-functions/functions-bindings-http-webhook-trigger?tabs=java)\n",
    "\n",
    "**Notes:**\n",
    "\n",
    "The `route` parameter defines the path that triggers the execution of the function. \n",
    "\n",
    "It is possible to capture variables/parameters, by enclosing their name in `{}`, and in conjunction with the `@BindingName` annotation."
   ]
  },
  {
   "cell_type": "markdown",
   "id": "1a64bc45",
   "metadata": {
    "slideshow": {
     "slide_type": "slide"
    }
   },
   "source": [
    "# Time Function Example\n",
    "\n",
    "```java\n",
    "public class TimerFunction {\n",
    "  private static final String TIMER_FUNCTION_NAME = \"timerFunctionExample\";\n",
    "  private static final String TIMER_TRIGGER_NAME = \"timerFunctionTrigger\";\n",
    "  private static final String TIMER_TRIGGER_SCHEDULE = \"0 * * * * *\";\n",
    "\t\n",
    "  @FunctionName(TIMER_FUNCTION_NAME)\n",
    "  public void run( @TimerTrigger(name = TIMER_TRIGGER_NAME, schedule = TIMER_TRIGGER_SCHEDULE) \n",
    "                  String timerInfo, \n",
    "                  ExecutionContext context) {\n",
    "\t \n",
    "      context.getLogger().info(\"Timer is triggered: \" + timerInfo);\n",
    "  }\n",
    "}\n",
    "```"
   ]
  },
  {
   "attachments": {},
   "cell_type": "markdown",
   "id": "5154ee55",
   "metadata": {
    "slideshow": {
     "slide_type": "notes"
    }
   },
   "source": [
    "**Documentation:**\n",
    "\n",
    "[https://docs.microsoft.com/en-us/azure/azure-functions/functions-bindings-timer?tabs=java](https://docs.microsoft.com/en-us/azure/azure-functions/functions-bindings-timer?tabs=java)\n",
    "\n",
    "**Notes:** \n",
    "\n",
    "The *schedule* determines how often the trigger executes. It uses the [crontab](https://en.wikipedia.org/wiki/Cron) format.\n",
    "\n",
    "`0 * * * * *` - means execute at the 0 second of every minute, hour, day, ... "
   ]
  },
  {
   "cell_type": "markdown",
   "id": "227fa7e6",
   "metadata": {},
   "source": [
    "# BlobStorage Function Example\n",
    "```java\n",
    "public class BlobStoreFunction {\n",
    "\tprivate static final String NAME = \"name\";\n",
    "\tprivate static final String PATH = \"shorts/{\" + NAME + \"}\";\n",
    "\tprivate static final String BLOBS_TRIGGER_NAME = \"blobFunctionTrigger\";\n",
    "\tprivate static final String BLOBS_FUNCTION_NAME = \"blobFunctionExample\";\n",
    "\tprivate static final String DATA_TYPE = \"binary\";\n",
    "\tprivate static final String BLOBSTORE_CONNECTION_ENV = \"BlobStoreConnection\";\n",
    "\n",
    "\t@FunctionName(BLOBS_FUNCTION_NAME)\n",
    "\tpublic void blobFunctionExample(\n",
    "\t\t\t@BlobTrigger(name = BLOBS_TRIGGER_NAME, \n",
    "\t\t\tdataType = DATA_TYPE, path = PATH, \n",
    "\t\t\tconnection = BLOBSTORE_CONNECTION_ENV) byte[] content,\n",
    "\t\t\t@BindingName(\"name\") String blobname, ExecutionContext context) {\n",
    "\n",
    "\t\tcontext.getLogger().info(String.format(\"blob : %s, uploaded with %d bytes\", blobname, content.length));\n",
    "\t}\n",
    "}\n",
    "```"
   ]
  },
  {
   "attachments": {},
   "cell_type": "markdown",
   "id": "801b5ac8",
   "metadata": {
    "slideshow": {
     "slide_type": "notes"
    }
   },
   "source": [
    "**Documentation:**\n",
    "\n",
    "[https://docs.microsoft.com/en-us/azure/azure-functions/functions-bindings-storage-blob-trigger?tabs=java](https://docs.microsoft.com/en-us/azure/azure-functions/functions-bindings-storage-blob-trigger?tabs=java)\n",
    "\n",
    "**Notes**: \n",
    "\n",
    "The `@BlobTrigger` annotation includes the `connection` argument that needs to contain the name of `environment` variable/settings that stores the connection string to the blob storage. In other words,\n",
    "`connection` does not contain the actual connection string.\n",
    "\n",
    "In the example above, `BlobStoreConnection` is the environment variable that is set via the `az functionapp config appsettings set ...` command as show in the \"Advanced/Automated Deployment\" section next."
   ]
  },
  {
   "cell_type": "markdown",
   "id": "0d93640c",
   "metadata": {
    "slideshow": {
     "slide_type": "slide"
    }
   },
   "source": [
    "# CosmosDB Function Example\n",
    "\n",
    "```java\n",
    "public class CosmosDBFunction {\n",
    "    private static final String COSMOSDB_CONNECTION_ENV=\"AzureCosmosDBConnection\";\n",
    "\t...\n",
    "\t\t\n",
    "    @FunctionName(COSMOSDB_FUNCTION_NAME)\n",
    "    public void run(@CosmosDBTrigger(name = COSMOSDB_TRIGGER_NAME,\n",
    "    \t\t\t\t\tdatabaseName = COSMOSDB_DATABASE_NAME,\n",
    "    \t\t\t\t\tconnection = COSMOSDB_CONNECTION_ENV, \n",
    "    \t\t\t\t\tcontainerName = COSMOSDB_CONTAINER_NAME,\n",
    "    \t\t\t\t\tleaseContainerName = COSMOSDB_LEASES_CONTAINER,\n",
    "    \t\t\t\t\tcreateLeaseContainerIfNotExists = true)\n",
    "        \t\t\t\tString usersJson,\n",
    "        \t\t\t\tExecutionContext context ) {\n",
    "    \t\n",
    "    \tvar list = GSON.decode(usersJson, new TypeToken<List<User>>() {});\n",
    "    \tfor( var u : list )\n",
    "    \t\tcontext.getLogger().info(\"Added user: \" + u);\n",
    "    }\n",
    "}\n",
    "```"
   ]
  },
  {
   "attachments": {},
   "cell_type": "markdown",
   "id": "c2b8e686",
   "metadata": {
    "slideshow": {
     "slide_type": "notes"
    }
   },
   "source": [
    "**Documentation:**\n",
    "\n",
    "[https://docs.microsoft.com/en-us/azure/azure-functions/functions-bindings-cosmosdb-v2-trigger?tabs=java](https://docs.microsoft.com/en-us/azure/azure-functions/functions-bindings-cosmosdb-v2-trigger?tabs=java)\n",
    "\n",
    "**Notes:** \n",
    "\n",
    "The trigger receives the list of updates in the form of a JSON string that needs to be decoded. \n",
    "\n",
    "**Only triggers for inserts or updates, not deletes**."
   ]
  },
  {
   "attachments": {},
   "cell_type": "markdown",
   "id": "70c3ecaf",
   "metadata": {
    "slideshow": {
     "slide_type": "slide"
    }
   },
   "source": [
    "# Connection Strings Environment Variables\n",
    "\n",
    "The **CosmosDB Function** and the **BlobStorage Function** examples, above, need connection strings to access their respective resources:\n",
    "\n",
    "`AzureCosmosDBConnection` and `BlobStoreConnection`\n",
    "\n",
    "These environment variables are set using the azure cli commands, like so:\n",
    "\n",
    "```\n",
    "    az functionapp config appsettings set\n",
    "      --name <functions-name> \\\n",
    "      --resource-group <functions-group> \\\n",
    "      --settings \"BlobStoreConnection=<actual connection string>\"\n",
    "``` "
   ]
  },
  {
   "cell_type": "markdown",
   "id": "8c702603",
   "metadata": {
    "slideshow": {
     "slide_type": "notes"
    }
   },
   "source": [
    "**Notes:**\n",
    "\n",
    "The project that does the automatic deployment of resources to Azure [scc2425-mgt-code.zip](scc2425-mgt-code.zip) generates scripts (files ending in .sh) that contain that commands that need to be executed.\n",
    "\n",
    "In a Linux/MacOS client, after the deployment completes, simply execute the script with: `sh azureprops-westeurope.sh`, replacing the region with the one that was actually used. In Windows, this is one\n",
    "more reason to use [Linux WSL](https://learn.microsoft.com/en-us/windows/wsl/install)..."
   ]
  },
  {
   "attachments": {},
   "cell_type": "markdown",
   "id": "bec297d5",
   "metadata": {
    "slideshow": {
     "slide_type": "slide"
    }
   },
   "source": [
    "# Debugging Azure Functions \n",
    "\n",
    "In the Azure portal, it is possible to inspect the Azure functions that are deployed.\n",
    "\n",
    "<img src=\"functions-1.png\" width=\"100%\"></img>"
   ]
  },
  {
   "cell_type": "markdown",
   "id": "2cb93fd6",
   "metadata": {
    "slideshow": {
     "slide_type": "slide"
    }
   },
   "source": [
    "# Debug Azure Functions : Invocations (1)\n",
    "\n",
    "<img src=\"functions-2.png\" width=\"100%\"></img>"
   ]
  },
  {
   "cell_type": "markdown",
   "id": "d2396531",
   "metadata": {
    "slideshow": {
     "slide_type": "slide"
    }
   },
   "source": [
    "# Debug Azure Functions : Invocations (2)\n",
    "\n",
    "<img src=\"functions-3.png\" width=\"100%\"></img>"
   ]
  },
  {
   "cell_type": "markdown",
   "id": "dc0d5fd7",
   "metadata": {
    "slideshow": {
     "slide_type": "notes"
    }
   },
   "source": [
    "**Notes**\n",
    "\n",
    "The list of invocations updates with a delay of several seconds..."
   ]
  },
  {
   "cell_type": "markdown",
   "id": "dd9b6ede",
   "metadata": {
    "slideshow": {
     "slide_type": "slide"
    }
   },
   "source": [
    "# Debug Azure Functions : Logs\n",
    "\n",
    "<img src=\"functions-4.png\" width=\"100%\"></img>"
   ]
  },
  {
   "cell_type": "markdown",
   "id": "4ef291c1",
   "metadata": {
    "slideshow": {
     "slide_type": "notes"
    }
   },
   "source": [
    "**Notes**\n",
    "\n",
    "Connecting to Logs takes a while and only shows executions that triggered after the connection was established..."
   ]
  },
  {
   "attachments": {},
   "cell_type": "markdown",
   "id": "bf388108",
   "metadata": {
    "slideshow": {
     "slide_type": "slide"
    }
   },
   "source": [
    "# Code provided\n",
    "\n",
    "The code provided [scc2425-lab5-code.zip](scc2425-lab5-code.zip) is a Maven project with example Azure functions that can be deployed to Azure. \n",
    "\n",
    "You will need to change the properties in pom.xml – check slide 5. \n",
    "\n",
    "For compiling and deploying, just run:\n",
    "\n",
    "mvn clean compile package azure-functions:deploy\n",
    "\n",
    "After deploying, do not forget to set the properties used by the Azure functions. You can use the .sh script file created by executing `scc.mgt.AzureManagement` from [scc2425-mgt-code.zip](scc2425-mgt-code.zip) – make sure the name of the function app and the resource group are correct. "
   ]
  },
  {
   "cell_type": "markdown",
   "id": "9ff9c701",
   "metadata": {
    "slideshow": {
     "slide_type": "notes"
    }
   },
   "source": [
    "**Notes:**\n",
    "\n",
    "1. Edit MY_ID in class `AzureManagement.java` and maybe choose a different the deployment region or regions.\n",
    "2. Generate the jar: `mvn clean compile assembly:single`\n",
    "3. Execute the deployment: `java -cp target/scc2425-mgt-1.0-jar-with-dependencies.jar scc.mgt.AzureManagement`\n",
    "4. Execute the generated `azureprops-<region>.sh` script to set the environment variables.  "
   ]
  }
 ],
 "metadata": {
  "celltoolbar": "Slideshow",
  "kernelspec": {
   "display_name": "Python 3 (ipykernel)",
   "language": "python",
   "name": "python3"
  },
  "language_info": {
   "codemirror_mode": {
    "name": "ipython",
    "version": 3
   },
   "file_extension": ".py",
   "mimetype": "text/x-python",
   "name": "python",
   "nbconvert_exporter": "python",
   "pygments_lexer": "ipython3",
   "version": "3.10.9"
  },
  "rise": {
   "theme": "sky"
  }
 },
 "nbformat": 4,
 "nbformat_minor": 5
}
