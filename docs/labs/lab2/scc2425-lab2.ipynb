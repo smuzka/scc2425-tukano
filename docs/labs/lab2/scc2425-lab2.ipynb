{
 "cells": [
  {
   "cell_type": "code",
   "execution_count": 5,
   "id": "0cbec22e",
   "metadata": {
    "slideshow": {
     "slide_type": "skip"
    }
   },
   "outputs": [],
   "source": [
    "\n",
    "!jupyter nbconvert --to html --TemplateExporter.exclude_code_cell=True --TemplateExporter.exclude_input_prompt=True --TemplateExporter.exclude_output_prompt=True scc2425-lab2.ipynb 2> /dev/null\n",
    "!jupyter nbconvert --to slides --TemplateExporter.exclude_input_prompt=True --TemplateExporter.exclude_output_prompt=True scc2425-lab2.ipynb 2> /dev/null"
   ]
  },
  {
   "cell_type": "markdown",
   "id": "b3f0f5fd",
   "metadata": {
    "slideshow": {
     "slide_type": "slide"
    }
   },
   "source": [
    "# Cloud Computing Systems\n",
    "## 2024/25\n",
    "\n",
    "Lab 2\n",
    "https://smduarte.github.io/scc2425/\n",
    "\n",
    "Sérgio Duarte, Kevin Gallagher "
   ]
  },
  {
   "cell_type": "markdown",
   "id": "05850652",
   "metadata": {
    "slideshow": {
     "slide_type": "slide"
    }
   },
   "source": [
    "# Goals\n",
    "\n",
    "+ Create a StorageAccount + Blob Container @ Azure;\n",
    "+ Rewrite last week's sample project to use the blob storage service;\n",
    "+ Start converting Tukano to leverage Azure"
   ]
  },
  {
   "cell_type": "markdown",
   "id": "9af755e8",
   "metadata": {
    "slideshow": {
     "slide_type": "slide"
    }
   },
   "source": [
    "# Goals\n",
    "\n",
    "+ **Create a StorageAccount + Blob Container @ Azure;**\n",
    "+ Rewrite last week's sample project to use the blob storage service\n",
    "+ Start converting Tukano to leverage Azure"
   ]
  },
  {
   "cell_type": "markdown",
   "id": "3b9d470e",
   "metadata": {
    "slideshow": {
     "slide_type": "slide"
    }
   },
   "source": [
    "# Create Storage Account (1)\n",
    "\n",
    "<img src=\"storage-account-1.png\" width=\"75%\"></img>"
   ]
  },
  {
   "cell_type": "markdown",
   "id": "39ff7192",
   "metadata": {
    "slideshow": {
     "slide_type": "slide"
    }
   },
   "source": [
    "# Create Storage Account (2)\n",
    "\n",
    "<img src=\"storage-account-2.png\" width=\"75%\"></img>"
   ]
  },
  {
   "cell_type": "markdown",
   "id": "96bd600e",
   "metadata": {
    "slideshow": {
     "slide_type": "slide"
    }
   },
   "source": [
    "# Create Storage Account (3)\n",
    "\n",
    "<img src=\"storage-account-3.png\" width=\"75%\"></img>"
   ]
  },
  {
   "cell_type": "markdown",
   "id": "716169ad",
   "metadata": {
    "slideshow": {
     "slide_type": "slide"
    }
   },
   "source": [
    "# Create Storage Account (4)\n",
    "\n",
    "<img src=\"storage-account-4.png\" width=\"75%\"></img>"
   ]
  },
  {
   "cell_type": "markdown",
   "id": "764b68bd",
   "metadata": {
    "slideshow": {
     "slide_type": "slide"
    }
   },
   "source": [
    "# Create Storage Account (5)\n",
    "<img src=\"storage-account-5.png\" width=\"75%\"></img>"
   ]
  },
  {
   "cell_type": "markdown",
   "id": "f1988abd",
   "metadata": {
    "slideshow": {
     "slide_type": "slide"
    }
   },
   "source": [
    "# Storage account: access keys (for code)\n",
    "\n",
    "<img src=\"storage-account-6.png\" width=\"75%\"></img>"
   ]
  },
  {
   "cell_type": "markdown",
   "id": "8a11c61e",
   "metadata": {
    "slideshow": {
     "slide_type": "slide"
    }
   },
   "source": [
    "# Configure Storage Account (1)\n",
    "\n",
    "<img src=\"storage-account-7.png\" width=\"75%\"></img>"
   ]
  },
  {
   "cell_type": "markdown",
   "id": "93ebc695",
   "metadata": {
    "slideshow": {
     "slide_type": "slide"
    }
   },
   "source": [
    "# Configure Storage Account (2)\n",
    "<img src=\"storage-account-8.png\" width=\"75%\"></img>"
   ]
  },
  {
   "cell_type": "markdown",
   "id": "bf9cbdb2",
   "metadata": {
    "slideshow": {
     "slide_type": "slide"
    }
   },
   "source": [
    "# Create Blob Storage Container (1)\n",
    "\n",
    "<img src=\"create-blob-1.png\" width=\"75%\"></img>"
   ]
  },
  {
   "cell_type": "markdown",
   "id": "67643571",
   "metadata": {
    "slideshow": {
     "slide_type": "slide"
    }
   },
   "source": [
    "# Create Blob Storage Container (2)\n",
    "\n",
    "<img src=\"create-blob-2.png\" width=\"75%\"></img>"
   ]
  },
  {
   "cell_type": "markdown",
   "id": "1d1fb185",
   "metadata": {
    "slideshow": {
     "slide_type": "slide"
    }
   },
   "source": [
    "# Container Base URL\n",
    "\n",
    "The base URL allows direct access to the blob by clients.\n",
    "\n",
    "Try uploading a file (in Azure interface) and downloading it in the browser using this URL. \n",
    "\n",
    "<img src=\"blob-url.png\" width=\"75%\"></img>"
   ]
  },
  {
   "cell_type": "markdown",
   "id": "8ed6fbea",
   "metadata": {
    "slideshow": {
     "slide_type": "slide"
    }
   },
   "source": [
    "# Goals\n",
    "\n",
    "+ Create a StorageAccount + Blob Container @ Azure;**\n",
    "+ **Rewrite last week's sample project to use the blob storage service**\n",
    "+ Start converting Tukano to leverage Azure"
   ]
  },
  {
   "cell_type": "markdown",
   "id": "ed3aee8b",
   "metadata": {
    "slideshow": {
     "slide_type": "slide"
    }
   },
   "source": [
    "# Accessing Azure (blob) storage\n",
    "\n",
    "We will use the library provided by Microsoft.\n",
    "\n",
    "Java Docs available at:\n",
    "\n",
    "[https://javadoc.io/doc/com.azure/azure-storage-blob/latest/com/azure/storage/blob/BlobContainerClient.html](https://javadoc.io/doc/com.azure/azure-storage-blob/latest/com/azure/storage/blob/BlobContainerClient.html)\n",
    "\n",
    "Example available at:\n",
    "\n",
    "[https://docs.microsoft.com/en-us/azure/storage/blobs/storage-quickstart-blobs-java?tabs=powershell](https://docs.microsoft.com/en-us/azure/storage/blobs/storage-quickstart-blobs-java?tabs=powershell)\n"
   ]
  },
  {
   "cell_type": "markdown",
   "id": "9b740dba",
   "metadata": {
    "slideshow": {
     "slide_type": "slide"
    }
   },
   "source": [
    "# Maven dependencies\n",
    "\n",
    "```xml\n",
    "<dependency>\n",
    "\t<groupId>com.azure</groupId>\n",
    "\t<artifactId>azure-storage-blob</artifactId>\n",
    "\t<version>12.28.0</version>\n",
    "</dependency>\n",
    "```"
   ]
  },
  {
   "cell_type": "markdown",
   "id": "480b4239",
   "metadata": {
    "slideshow": {
     "slide_type": "slide"
    }
   },
   "source": [
    "# Step 1: Create client to blob storage\n",
    "\n",
    "\n",
    "```java\n",
    "// Get connection string in the storage access keys page\n",
    "var storageConnectionString = ...\n",
    "\n",
    "// Get container client\n",
    "var containerClient = new BlobContainerClientBuilder()\n",
    "\t\t\t.connectionString(storageConnectionString)\n",
    "\t\t\t.containerName( CONTAINER_NAME)\n",
    "\t\t\t.buildClient();\n",
    "```"
   ]
  },
  {
   "cell_type": "markdown",
   "id": "fed6630a",
   "metadata": {
    "slideshow": {
     "slide_type": "slide"
    }
   },
   "source": [
    "# Step 2: upload byte array\n",
    "\n",
    "```java\n",
    "// Get client to blob\n",
    "var blob = containerClient.getBlobClient( filename);\n",
    "\n",
    "\n",
    "var filename = ...;\n",
    "var data = BinaryData.fromFile(Path.of(filename));\n",
    "\n",
    "// Upload contents from BinaryData (check documentation for other alternatives)\n",
    "// This will throw an exception if blob exists !!\n",
    "blob.upload(data);\n",
    "```"
   ]
  },
  {
   "cell_type": "markdown",
   "id": "3356576c",
   "metadata": {
    "slideshow": {
     "slide_type": "slide"
    }
   },
   "source": [
    "# Step 3: Download to byte array\n",
    "\n",
    "```java\n",
    "\n",
    "// Get client to blob\n",
    "var blob = containerClient.getBlobClient( filename);\n",
    "\n",
    "// Download contents to BinaryData (check documentation for other alternatives)\n",
    "byte[] data = blob.downloadContent().toBytes();\n",
    "\n",
    "```"
   ]
  },
  {
   "cell_type": "markdown",
   "id": "8b6a32eb",
   "metadata": {
    "slideshow": {
     "slide_type": "slide"
    }
   },
   "source": [
    "# Some notes\n",
    "\n",
    "**Are storage containers only created through Azure Portal?**\n",
    "\n",
    "No. It is possible to create containers programmatically!\n",
    "\n",
    "    -- Check the documentation;\n",
    "    \n",
    "We will see soon how to create all kinds of Azure resources using code..."
   ]
  },
  {
   "cell_type": "markdown",
   "id": "dc498b4e",
   "metadata": {
    "slideshow": {
     "slide_type": "slide"
    }
   },
   "source": [
    "# Sample Code\n",
    "\n",
    "The code provided [scc2425-lab2.zip](scc2425-lab2.zip) is a Maven project for uploading and downloading file to and from the Blob store (directly).\n",
    "\n",
    "For testing it in the command line, just run:\n",
    "\n",
    "```mvn clean compile assembly:single```\n",
    "\n",
    "This will compile and create a single file with all compiled classes and dependencies.\n",
    "\n",
    "Run the program as follows:\n",
    "\n",
    "```java -cp target/scc2425-lab2-1.0-jar-with-dependencies.jar scc.utils.UploadToStorage earth.jpg```"
   ]
  },
  {
   "cell_type": "markdown",
   "id": "18ad63c2",
   "metadata": {
    "slideshow": {
     "slide_type": "slide"
    }
   },
   "source": [
    "# Goals\n",
    "\n",
    "+ Create a StorageAccount + Blob Container @ Azure;**\n",
    "+ **Rewrite last week's sample project to use the blob storage service**\n",
    "+ Start converting Tukano to leverage Azure"
   ]
  },
  {
   "cell_type": "markdown",
   "id": "9de4ed01",
   "metadata": {
    "slideshow": {
     "slide_type": "slide"
    }
   },
   "source": [
    "# Start converting Tukano to leverage Azure\n",
    "\n",
    "Study the code provided for the [Tukano application](https://github.com/smduarte/scc2425/tree/main/scc2425-tukano)\n",
    "\n",
    "1. Adapt the project for Azure deployment\n",
    "2. Replace storage backend of the [Blobs](https://github.com/smduarte/scc2425/blob/main/scc2425-tukano/src/main/java/tukano/api/rest/RestBlobs.java) endpoint so that it uses Azure Blob Storage."
   ]
  }
 ],
 "metadata": {
  "celltoolbar": "Slideshow",
  "kernelspec": {
   "display_name": "Python 3 (ipykernel)",
   "language": "python",
   "name": "python3"
  },
  "language_info": {
   "codemirror_mode": {
    "name": "ipython",
    "version": 3
   },
   "file_extension": ".py",
   "mimetype": "text/x-python",
   "name": "python",
   "nbconvert_exporter": "python",
   "pygments_lexer": "ipython3",
   "version": "3.10.9"
  },
  "rise": {
   "theme": "sky"
  }
 },
 "nbformat": 4,
 "nbformat_minor": 5
}
