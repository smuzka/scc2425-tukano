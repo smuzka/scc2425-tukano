{
 "cells": [
  {
   "cell_type": "code",
   "execution_count": 5,
   "id": "0cbec22e",
   "metadata": {
    "slideshow": {
     "slide_type": "skip"
    }
   },
   "outputs": [],
   "source": [
    "\n",
    "!jupyter nbconvert --to html --TemplateExporter.exclude_code_cell=True --TemplateExporter.exclude_input_prompt=True --TemplateExporter.exclude_output_prompt=True scc2425-lab4.ipynb 2> /dev/null\n",
    "!jupyter nbconvert --to slides --TemplateExporter.exclude_input_prompt=True --TemplateExporter.exclude_output_prompt=True scc2425-lab4.ipynb 2> /dev/null"
   ]
  },
  {
   "cell_type": "markdown",
   "id": "b3f0f5fd",
   "metadata": {
    "slideshow": {
     "slide_type": "slide"
    }
   },
   "source": [
    "# Cloud Computing Systems\n",
    "## 2024/25\n",
    "\n",
    "Lab 4\n",
    "https://smduarte.github.io/scc2425/\n",
    "\n",
    "Sérgio Duarte, Kevin Gallagher "
   ]
  },
  {
   "attachments": {},
   "cell_type": "markdown",
   "id": "05850652",
   "metadata": {
    "slideshow": {
     "slide_type": "slide"
    }
   },
   "source": [
    "# Goals\n",
    "\n",
    "+ Create a Azure Redis for Cache account @ Azure;\n",
    "+ Try AzureRedisCache to store various kinds of data in cache.\n",
    "+ Continue converting Tukano to run on Azure; think of leveraging Redis to improve latency."
   ]
  },
  {
   "cell_type": "markdown",
   "id": "9af755e8",
   "metadata": {
    "slideshow": {
     "slide_type": "slide"
    }
   },
   "source": [
    "# Goals\n",
    "\n",
    "+ **Create a Azure Redis for Cache account @ Azure;**\n",
    "+ Try AzureRedisCache to store various kinds of data in cache.\n",
    "+ Continue converting Tukano to run on Azure; think of leveraging Redis to improve latency."
   ]
  },
  {
   "attachments": {},
   "cell_type": "markdown",
   "id": "3b9d470e",
   "metadata": {
    "slideshow": {
     "slide_type": "slide"
    }
   },
   "source": [
    "# Create Azure Redis for Cache\n",
    "\n",
    "<img src=\"redis-1.png\" width=\"75%\"></img>"
   ]
  },
  {
   "cell_type": "markdown",
   "id": "39ff7192",
   "metadata": {
    "slideshow": {
     "slide_type": "slide"
    }
   },
   "source": [
    "# Create Azure Redis for Cache (2)\n",
    "\n",
    "<img src=\"redis-2.png\" width=\"75%\"></img>"
   ]
  },
  {
   "cell_type": "markdown",
   "id": "96bd600e",
   "metadata": {
    "slideshow": {
     "slide_type": "slide"
    }
   },
   "source": [
    "# Create Azure Redis for Cache (3)\n",
    "\n",
    "<img src=\"redis-3.png\" width=\"75%\"></img>"
   ]
  },
  {
   "cell_type": "markdown",
   "id": "716169ad",
   "metadata": {
    "slideshow": {
     "slide_type": "slide"
    }
   },
   "source": [
    "# Create Azure Redis for Cache (4)\n",
    "\n",
    "<img src=\"redis-4.png\" width=\"75%\"></img>"
   ]
  },
  {
   "cell_type": "markdown",
   "id": "764b68bd",
   "metadata": {
    "slideshow": {
     "slide_type": "slide"
    }
   },
   "source": [
    "# Create Azure Redis for Cache (5)\n",
    "\n",
    "<img src=\"redis-5.png\" width=\"75%\"></img>"
   ]
  },
  {
   "attachments": {},
   "cell_type": "markdown",
   "id": "f1988abd",
   "metadata": {
    "slideshow": {
     "slide_type": "slide"
    }
   },
   "source": [
    "# Create Azure Redis for Cache: URL\n",
    "\n",
    "<img src=\"redis-6.png\" width=\"75%\"></img>"
   ]
  },
  {
   "cell_type": "markdown",
   "id": "8a11c61e",
   "metadata": {
    "slideshow": {
     "slide_type": "slide"
    }
   },
   "source": [
    "# Create Azure Redis for Cache: Key\n",
    "\n",
    "<img src=\"redis-7.png\" width=\"75%\"></img>"
   ]
  },
  {
   "cell_type": "markdown",
   "id": "b8e21a18",
   "metadata": {
    "slideshow": {
     "slide_type": "slide"
    }
   },
   "source": [
    "# Goals\n",
    "\n",
    "+ Create a Azure Redis for Cache account @ Azure;\n",
    "+ **Try  AzureRedisCache to store various kinds of data in cache.**\n",
    "+ Continue converting Tukano to run on Azure; think of leveraging Redis to improve latency."
   ]
  },
  {
   "attachments": {},
   "cell_type": "markdown",
   "id": "1d1fb185",
   "metadata": {
    "slideshow": {
     "slide_type": "slide"
    }
   },
   "source": [
    "# Accessing Azure Cache for Redis: useful links\n",
    "\n",
    "We will use the library provided by Microsoft.\n",
    "\n",
    "Java Docs available at:\n",
    "\n",
    "+ [https://www.javadoc.io/doc/redis.clients/jedis/4.2.3](https://www.javadoc.io/doc/redis.clients/jedis/4.2.3)\n",
    "\n",
    "Overview on how to use at:\n",
    "\n",
    "+ [https://docs.microsoft.com/en-us/azure/azure-cache-for-redis/cache-java-get-started](https://docs.microsoft.com/en-us/azure/azure-cache-for-redis/cache-java-get-started)\n"
   ]
  },
  {
   "attachments": {},
   "cell_type": "markdown",
   "id": "6684415a",
   "metadata": {
    "slideshow": {
     "slide_type": "slide"
    }
   },
   "source": [
    "# Redis datatypes\n",
    "\n",
    "[https://redis.io/topics/data-types](https://redis.io/topics/data-types)\n",
    "\n",
    "1. Key/Value String pairs\n",
    "2. Lists and Sets (sorted and unsorted) of Strings\n",
    "3. Counters\n",
    "4. Hashes (similar to a struct or map)\n",
    "5. Probabilistic data structures, such as HyperLogLogs, Bloom filters, Cuckoo filters, etc).\n",
    "\n",
    "Most values need to be stored as strings. Easily resolved by using JSON as the external representation\n",
    "of the data."
   ]
  },
  {
   "attachments": {},
   "cell_type": "markdown",
   "id": "9b740dba",
   "metadata": {
    "slideshow": {
     "slide_type": "slide"
    }
   },
   "source": [
    "# Maven dependencies\n",
    "\n",
    "This for for talking to Redis\n",
    "```xml\n",
    "<dependency>\n",
    "\t<groupId>redis.clients</groupId>\n",
    "\t<artifactId>jedis</artifactId>\n",
    "\t<version>5.0.1</version>\n",
    "</dependency>\n",
    "```\n",
    "\n",
    "For serializing objects to JSON\n",
    "```xml\n",
    "<dependency>\n",
    "\t<groupId>com.fasterxml.jackson.core</groupId>\n",
    "\t<artifactId>jackson-core</artifactId>\n",
    "\t<version>2.15.2</version>\n",
    "</dependency>\n",
    "<dependency>\n",
    "\t<groupId>com.fasterxml.jackson.core</groupId>\n",
    "\t<artifactId>jackson-databind</artifactId>\n",
    "\t<version>2.15.2</version>\n",
    "</dependency>\n",
    "```"
   ]
  },
  {
   "attachments": {},
   "cell_type": "markdown",
   "id": "dd5eb900",
   "metadata": {
    "slideshow": {
     "slide_type": "slide"
    }
   },
   "source": [
    "# Step 1: create client to Redis\n",
    "\n",
    "\n",
    "### Alternatives:\n",
    "\n",
    "1. Create a single client to Redis: \n",
    "    \n",
    "    A client has a connection to the Redis server and it is not thread-safe.\n",
    "    \n",
    "    **- Not a good option for application servers.**<br><br>\n",
    "\n",
    "\n",
    "\n",
    "2. Use a pool of clients to Redis, which can be shared by multiple threads."
   ]
  },
  {
   "attachments": {},
   "cell_type": "markdown",
   "id": "fed6630a",
   "metadata": {
    "slideshow": {
     "slide_type": "slide"
    }
   },
   "source": [
    "# Step 1: create pool of clients to Redis\n",
    "\n",
    "```java\n",
    "private static JedisPool instance;\n",
    "\n",
    "public synchronized static JedisPool getCachePool() {\n",
    "    if( instance != null)\n",
    "        return instance;\n",
    "    \n",
    "    var poolConfig = new JedisPoolConfig();\n",
    "    poolConfig.setMaxTotal(128);\n",
    "    poolConfig.setMaxIdle(128);\n",
    "    poolConfig.setMinIdle(16);\n",
    "    ...\n",
    "    poolConfig.setBlockWhenExhausted(true);\n",
    "    instance = new JedisPool(poolConfig, RedisHostname, REDIS_PORT, REDIS_TIMEOUT, RedisKey, REDIS_USE_TLS);\n",
    "    return instance;\n",
    "}\n",
    "```"
   ]
  },
  {
   "attachments": {},
   "cell_type": "markdown",
   "id": "3356576c",
   "metadata": {
    "slideshow": {
     "slide_type": "slide"
    }
   },
   "source": [
    "# Step 2: Use client from Jedis pool\n",
    "\n",
    "Retrive a client from pool with a **[try with resources](https://docs.oracle.com/javase/8/docs/technotes/guides/language/try-with-resources.html)** block\n",
    "```java\n",
    "try (Jedis jedis = RedisCache.getCachePool().getResource()) {\n",
    "\n",
    "\t// Execute operations with a client to the Redis server\n",
    "\n",
    "}\n",
    "```\n",
    "The client will be released automatically back to the pool..."
   ]
  },
  {
   "cell_type": "markdown",
   "id": "ee65e27c",
   "metadata": {
    "slideshow": {
     "slide_type": "slide"
    }
   },
   "source": [
    "# Step 3: Write and Read a key/value pair\n",
    "\n",
    "```java\n",
    "var user1 = new User(\"john\", \"1234\", \"john@nova.pt\", \"John Smith\")\n",
    "\n",
    "try (Jedis jedis = RedisCache.getCachePool().getResource()) {\n",
    "    \n",
    "    var key1 = \"users:\" + user.id();\n",
    "    var value1 = JSON.encode( user1);\n",
    "    jedis.set( key1, value2 );\n",
    "\t\n",
    "    var key2 = ...\n",
    "    var value2 = jedis.get( key2 );\n",
    "    var user2 = JSON.decode( value2, User.class);\n",
    "}\n",
    "\n",
    "```"
   ]
  },
  {
   "cell_type": "markdown",
   "id": "a7a97a7f",
   "metadata": {
    "slideshow": {
     "slide_type": "slide"
    }
   },
   "source": [
    "# Step 4: Operate on a List\n",
    "\n",
    "```java\n",
    "static MOST_RECENT_USERS_LIST = \"MostRecentUsers\";\n",
    "\n",
    "var user1 = new User(\"john\", \"1234\", \"john@nova.pt\", \"John Smith\")\n",
    "\n",
    "try (Jedis jedis = RedisCache.getCachePool().getResource()) {\n",
    "    \n",
    "    var size = jedis.lpush(MOST_RECENT_USERS_LIST, JSON.encode(user1) );\n",
    "    if (size > 5)\n",
    "        jedis.ltrim(MOST_RECENT_USERS_LIST, 0, 4);\n",
    "\n",
    "    var list = jedis.lrange(MOST_RECENT_USERS_LIST, 0, -1);\n",
    "    \n",
    "    System.out.println(MOST_RECENT_USERS_LIST);\n",
    "    for( String s : list)\n",
    "        System.out.println(s);\n",
    "}\n",
    "\n",
    "```"
   ]
  },
  {
   "cell_type": "markdown",
   "id": "d76904e4",
   "metadata": {
    "slideshow": {
     "slide_type": "notes"
    }
   },
   "source": [
    "Note: Redis Lists support several operations, such as appending, trimming and retrieving range..."
   ]
  },
  {
   "cell_type": "markdown",
   "id": "5f14c12b",
   "metadata": {
    "slideshow": {
     "slide_type": "slide"
    }
   },
   "source": [
    "# Step 4: Increment a Counter\n",
    "\n",
    "```java\n",
    "static final String MUM_USERS_COUNTER = \"NumUsers\";\n",
    "\n",
    "try (Jedis jedis = RedisCache.getCachePool().getResource()) {\n",
    "    var cnt = jedis.incr(MUM_USERS_COUNTER);\n",
    "    System.out.println( \"Num users : \" + cnt);\n",
    "}\n",
    "\n",
    "```"
   ]
  },
  {
   "cell_type": "markdown",
   "id": "0afe6066",
   "metadata": {
    "slideshow": {
     "slide_type": "notes"
    }
   },
   "source": [
    "Note: Redis counters are updated atomically and support concurrent increments by multiple clients..."
   ]
  },
  {
   "attachments": {},
   "cell_type": "markdown",
   "id": "794c27c2",
   "metadata": {
    "slideshow": {
     "slide_type": "slide"
    }
   },
   "source": [
    "# Step 4: Redis key expiration\n",
    "\n",
    "\n",
    "+ **expire( key, seconds)**\n",
    "\n",
    "Allows to set an expiration time for a key. \n",
    "\n",
    "After the time for the key expires, the key is automatically deleted from the cache."
   ]
  },
  {
   "cell_type": "markdown",
   "id": "1125c249",
   "metadata": {
    "slideshow": {
     "slide_type": "notes"
    }
   },
   "source": [
    "Resetting the timeout is not automatic for all operations. \n",
    "\n",
    "For example, incrementing a key does not clear the timeout and postpone expiration.\n",
    "\n",
    "Check the documentation."
   ]
  },
  {
   "cell_type": "markdown",
   "id": "dc498b4e",
   "metadata": {
    "slideshow": {
     "slide_type": "slide"
    }
   },
   "source": [
    "# Sample Code\n",
    "\n",
    "The code provided [scc2425-lab4.zip](scc2425-lab4.zip) is a Maven project for uploading and downloading file to and from the Blob store (directly).\n",
    "\n",
    "For testing it in the command line, just run:\n",
    "\n",
    "```mvn clean compile assembly:single```\n",
    "\n",
    "This will compile and create a single file with all compiled classes and dependencies.\n",
    "\n",
    "Run the program as follows:\n",
    "\n",
    "```java -cp target/scc2425-lab4-1.0-jar-with-dependencies.jar scc.utils.TestCache```"
   ]
  },
  {
   "cell_type": "markdown",
   "id": "f12b423c",
   "metadata": {
    "slideshow": {
     "slide_type": "slide"
    }
   },
   "source": [
    "# Goals\n",
    "\n",
    "+ Create a Azure Redis for Cache account @ Azure;\n",
    "+ Try AzureRedisCache to store various kinds of data in cache.\n",
    "+ **Continue converting Tukano to run on Azure; think of leveraging Redis to improve latency.**"
   ]
  }
 ],
 "metadata": {
  "celltoolbar": "Slideshow",
  "kernelspec": {
   "display_name": "Python 3 (ipykernel)",
   "language": "python",
   "name": "python3"
  },
  "language_info": {
   "codemirror_mode": {
    "name": "ipython",
    "version": 3
   },
   "file_extension": ".py",
   "mimetype": "text/x-python",
   "name": "python",
   "nbconvert_exporter": "python",
   "pygments_lexer": "ipython3",
   "version": "3.10.9"
  },
  "rise": {
   "theme": "sky"
  }
 },
 "nbformat": 4,
 "nbformat_minor": 5
}
