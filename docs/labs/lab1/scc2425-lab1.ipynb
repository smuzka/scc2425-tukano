{
 "cells": [
  {
   "cell_type": "code",
   "execution_count": 15,
   "id": "0cbec22e",
   "metadata": {
    "slideshow": {
     "slide_type": "skip"
    }
   },
   "outputs": [],
   "source": [
    "\n",
    "!jupyter nbconvert --to html --TemplateExporter.exclude_code_cell=True --TemplateExporter.exclude_input_prompt=True --TemplateExporter.exclude_output_prompt=True scc2425-lab1.ipynb 2> /dev/null\n",
    "!jupyter nbconvert --to slides --TemplateExporter.exclude_input_prompt=True --TemplateExporter.exclude_output_prompt=True scc2425-lab1.ipynb 2> /dev/null"
   ]
  },
  {
   "cell_type": "markdown",
   "id": "b3f0f5fd",
   "metadata": {
    "slideshow": {
     "slide_type": "slide"
    }
   },
   "source": [
    "# Cloud Computing Systems\n",
    "## 2024/25\n",
    "\n",
    "Lab 1\n",
    "https://smduarte.github.io/scc2425/\n",
    "\n",
    "Sérgio Duarte, Kevin Gallagher "
   ]
  },
  {
   "cell_type": "markdown",
   "id": "05850652",
   "metadata": {
    "slideshow": {
     "slide_type": "slide"
    }
   },
   "source": [
    "# Goals\n",
    "\n",
    "+ Create an Azure Student Subscription;\n",
    "+ Deploy a simple web application with a REST API to the Azure Cloud Platform;\n",
    "+ Setup a Github repository "
   ]
  },
  {
   "cell_type": "markdown",
   "id": "62c11c30",
   "metadata": {
    "slideshow": {
     "slide_type": "slide"
    }
   },
   "source": [
    "# Create a Azure Student Subscription!\n",
    "\n",
    "Create a Microsoft Azure Dev Tools for Teaching subscription using the FCT/Nova protocol:\n",
    "\n",
    "[https://azure.microsoft.com/pt-pt/pricing/offers/ms-azr-0170p/](https://azure.microsoft.com/pt-pt/pricing/offers/ms-azr-0170p/)\n",
    "\n",
    "\n",
    "NOTE: Use the **Sign In** button and not the Free Account.\n",
    "\n",
    "You should use your CLIP credentials, like so: `id@fct.unl.pt` \n"
   ]
  },
  {
   "cell_type": "markdown",
   "id": "1787d3f2",
   "metadata": {
    "slideshow": {
     "slide_type": "notes"
    }
   },
   "source": [
    "`id@campus.fct.unl.pt` will not work."
   ]
  },
  {
   "cell_type": "markdown",
   "id": "1454c234",
   "metadata": {
    "slideshow": {
     "slide_type": "slide"
    }
   },
   "source": [
    "<img src=\"azure-signin.png\" width=\"75%\"></img>"
   ]
  },
  {
   "cell_type": "markdown",
   "id": "292777f0",
   "metadata": {
    "slideshow": {
     "slide_type": "slide"
    }
   },
   "source": [
    "# Azure Portal\n",
    "\n",
    "The Azure Portal is available at the URL below:\n",
    "\n",
    "[https://portal.azure.com/#home](https://portal.azure.com/#home)\n",
    "\n",
    "Here, you can create, inspect and delete resources.\n",
    "\n",
    "Resources can be VMs, Web Apps, Storage accounts, etc.\n",
    "\n",
    "Some kinds of resources are **free**; others can be **quite expensive**. \n",
    "\n",
    "Use resources carefully to save credits."
   ]
  },
  {
   "cell_type": "markdown",
   "id": "fa2f5c9f",
   "metadata": {
    "slideshow": {
     "slide_type": "notes"
    }
   },
   "source": [
    "In this lab, we will only use Web Apps.\n",
    "\n",
    "They will be created and deployed automatically using [maven](https://maven.apache.org/). \n",
    "\n",
    "More info on other kinds of resources will be the subject of future labs."
   ]
  },
  {
   "cell_type": "markdown",
   "id": "eb8c034c",
   "metadata": {
    "slideshow": {
     "slide_type": "slide"
    }
   },
   "source": [
    "# Azure Portal (2)\n",
    "Delete your resources when you are not using them (to avoid wasting credits).\n",
    "\n",
    "<img src=\"azure-all-resources.png\" width=\"75%\"></img>"
   ]
  },
  {
   "cell_type": "markdown",
   "id": "e9ce4f65",
   "metadata": {
    "slideshow": {
     "slide_type": "slide"
    }
   },
   "source": [
    "# Example\n",
    "## Simple web app\n",
    "\n",
    "Code available [here](scc2425-lab1-code.zip).\n",
    "\n",
    "Web application with two REST resources:\n",
    "\n",
    "+ `ControlResource`\n",
    "\n",
    "There is a single endpoint that prints a version number.\n",
    "\n",
    "Can be useful to check if the version running in the Azure Cloud is the latest;\n"
   ]
  },
  {
   "cell_type": "markdown",
   "id": "5d2abe1c",
   "metadata": {
    "slideshow": {
     "slide_type": "slide"
    }
   },
   "source": [
    "\n",
    "+ `MediaResource`\n",
    "\n",
    "Provides endpoints to upload and download binary data (eg. images, videos);\n",
    "Also allows retrieving the list of available data items."
   ]
  },
  {
   "cell_type": "markdown",
   "id": "df1bb2d2",
   "metadata": {
    "slideshow": {
     "slide_type": "slide"
    }
   },
   "source": [
    "# Deployment\n",
    "\n",
    "The code provided is a Maven project.\n",
    "\n",
    "The project is configured to target Tomcat 10 (with Java 17). \n",
    "+ This is the version that is available at Azure.\n",
    "\n",
    "Deployment is done in three steps:\n",
    "\n",
    "1. Sign-in to Azure;\n",
    "2. Specify the deployment configuration (region, machine type, etc);\n",
    "3. Compile, package and deploy the web application."
   ]
  },
  {
   "cell_type": "markdown",
   "id": "77504a96",
   "metadata": {
    "slideshow": {
     "slide_type": "notes"
    }
   },
   "source": [
    "The first two steps **do not** have to be repeated everytime the code changes.\n",
    "\n",
    "It is possible to launch the server locally before deploying to Azure."
   ]
  },
  {
   "cell_type": "markdown",
   "id": "34167bc2",
   "metadata": {
    "slideshow": {
     "slide_type": "slide"
    }
   },
   "source": [
    "# Plugins\n",
    "\n",
    "Microsoft has plug-ins for making it easy to deploy Web Apps to the Azure platform using Eclipse or IntelliJ. \n",
    "\n",
    "We will be using the **command line** and **maven** for deploying applications.\n",
    "\n"
   ]
  },
  {
   "cell_type": "markdown",
   "id": "0d9f4394",
   "metadata": {
    "slideshow": {
     "slide_type": "notes"
    }
   },
   "source": [
    "For Eclipse go to:\n",
    "\n",
    "[https://docs.microsoft.com/en-us/azure/developer/java/toolkit-for-eclipse/installation](https://docs.microsoft.com/en-us/azure/developer/java/toolkit-for-eclipse/installation)\n",
    "\n",
    "For IntelliJ go to:\n",
    "\n",
    "[https://docs.microsoft.com/en-us/azure/developer/java/toolkit-for-intellij/](https://docs.microsoft.com/en-us/azure/developer/java/toolkit-for-intellij/)"
   ]
  },
  {
   "cell_type": "markdown",
   "id": "6d4b7a23",
   "metadata": {
    "slideshow": {
     "slide_type": "slide"
    }
   },
   "source": [
    "# Using Maven to deploy to Azure\n",
    "\n",
    "Requirements:\n",
    "\n",
    "+ Azure CLI\n",
    "+ Maven\n",
    "\n",
    "Install the latest Azure CLI on your system:\n",
    "\n",
    "[https://docs.microsoft.com/en-us/cli/azure/install-azure-cli?view=azure-cli-latest](https://docs.microsoft.com/en-us/cli/azure/install-azure-cli?view=azure-cli-latest)\n",
    "\n",
    "Follow the steps in the above link to associate your Azure CLI with your Azure account.\n",
    "\n",
    "Without it, you will not be able to deploy applications to Azure."
   ]
  },
  {
   "cell_type": "markdown",
   "id": "d853ddf7",
   "metadata": {
    "slideshow": {
     "slide_type": "slide"
    }
   },
   "source": [
    "# Azure CLI\n",
    "\n",
    "<img src=\"az-login.png\" width=\"75%\"></img>"
   ]
  },
  {
   "cell_type": "markdown",
   "id": "8c513ccc",
   "metadata": {
    "slideshow": {
     "slide_type": "slide"
    }
   },
   "source": [
    "# Using Maven to deploy to Azure (2)\n",
    "\n",
    "The ***pom.xml*** file of the project, in the ***build*** section will use: \n",
    "\n",
    "```xml\n",
    "<plugin> \n",
    "    <groupId>com.microsoft.azure</groupId>\n",
    "    <artifactId>azure-webapp-maven-plugin</artifactId>  \n",
    "    <version>2.13.0</version>  \n",
    "</plugin>\n",
    "```"
   ]
  },
  {
   "cell_type": "markdown",
   "id": "9a56312d",
   "metadata": {
    "slideshow": {
     "slide_type": "notes"
    }
   },
   "source": [
    "Check the pom.xml of the provided sample project for a more detailed example of the plugin configuration options."
   ]
  },
  {
   "cell_type": "markdown",
   "id": "4a894545",
   "metadata": {
    "slideshow": {
     "slide_type": "slide"
    }
   },
   "source": [
    "# Using Maven to deploy to Azure (3)\n",
    "\n",
    "Choose the deployment configuration:\n",
    "\n",
    "```mvn azure-webapp:config```\n"
   ]
  },
  {
   "cell_type": "markdown",
   "id": "2648229f",
   "metadata": {
    "slideshow": {
     "slide_type": "notes"
    }
   },
   "source": [
    "Run the command in the root directory of the project, (i.e., the directory that contains de pom.xml)"
   ]
  },
  {
   "cell_type": "markdown",
   "id": "1ffde623",
   "metadata": {
    "slideshow": {
     "slide_type": "slide"
    }
   },
   "source": [
    "<img src=\"deployment-config.png\" width=\"33%\"></img>"
   ]
  },
  {
   "cell_type": "markdown",
   "id": "45d2c227",
   "metadata": {
    "slideshow": {
     "slide_type": "notes"
    }
   },
   "source": [
    "#### Application\n",
    "\n",
    "+ appName\n",
    "+ resourceGroup\n",
    "\n",
    "    Make sure you change these names – suggestion use your student number as suffix.\n",
    "\n",
    "#### Region\n",
    "\n",
    "+ westeurope\n",
    "\n",
    "    ***Exercise:*** try a different region to compare latency.\n",
    "    \n",
    "#### Pricing Tier\n",
    "\n",
    "For now, let’s use the free tier (**F1**).\n",
    "\n"
   ]
  },
  {
   "cell_type": "markdown",
   "id": "1a2a2ed2",
   "metadata": {
    "slideshow": {
     "slide_type": "slide"
    }
   },
   "source": [
    "<img src=\"deployment-config2.png\" width=\"50%\"></img>"
   ]
  },
  {
   "cell_type": "markdown",
   "id": "d3eecfa4",
   "metadata": {
    "slideshow": {
     "slide_type": "notes"
    }
   },
   "source": [
    "#### Runtime\n",
    "\n",
    "+ OS: Linux\n",
    "\n",
    "+ Java version: Java 17\n",
    "\n",
    "+ Application Server: TOMCAT 10.0"
   ]
  },
  {
   "cell_type": "markdown",
   "id": "f9d8e9b3",
   "metadata": {
    "slideshow": {
     "slide_type": "slide"
    }
   },
   "source": [
    "# Using Maven (2)\n",
    "\n",
    "Compile and deploy your application by running:\n",
    "\n",
    "`mvn clean compile package azure-webapp:deploy`"
   ]
  },
  {
   "cell_type": "markdown",
   "id": "1d03a961",
   "metadata": {
    "slideshow": {
     "slide_type": "notes"
    }
   },
   "source": [
    "This should launch your application on Azure, printing the URL to access it. \n",
    "\n",
    "Try accessing the /rest/ctrl/version endpoint...\n",
    "\n",
    "Use some REST client – e.g. [Postman](https://www.postman.com/) – to test other methods"
   ]
  },
  {
   "cell_type": "markdown",
   "id": "1623c4f7",
   "metadata": {
    "slideshow": {
     "slide_type": "slide"
    }
   },
   "source": [
    "# Exercise\n",
    "\n",
    "+ Deploy the provided sample project;\n",
    "+ Complete and try the MediaResource.\n",
    "    \n",
    "    For example, wse [Postman](https://www.postman.com/) to upload a picture and the browser to download it."
   ]
  },
  {
   "cell_type": "markdown",
   "id": "0f660a7b",
   "metadata": {
    "slideshow": {
     "slide_type": "slide"
    }
   },
   "source": [
    "# Git and GitHub\n",
    "\n",
    "We will be using [Git](https://git-scm.com/) and [GitHub](https://github.com/) to suppot the collaborative development of course's two projects.\n",
    "\n",
    "Grading will take into account group member activity in commit history of the group's repository."
   ]
  },
  {
   "cell_type": "markdown",
   "id": "bb670e8d",
   "metadata": {
    "slideshow": {
     "slide_type": "slide"
    }
   },
   "source": [
    "# Setup a GitHub repository\n",
    "\n",
    "[Git](https://git-scm.com/) is a distributed version-control system for tracking changes in source code.\n",
    "\n",
    "Designed for allowing a group of developers to collaboratively develop some project.\n",
    "\n",
    "\n",
    "[GitHub](https://github.com/) is an online platform for hosting git based repositories."
   ]
  },
  {
   "cell_type": "markdown",
   "id": "8171bb9d",
   "metadata": {
    "slideshow": {
     "slide_type": "notes"
    }
   },
   "source": [
    "Here are a few pointer to get you started with [GitHub](https://github.com/) and [Git](https://git-scm.com/):\n",
    "\n",
    "+ [GitHub Hello World](https://docs.github.com/en/get-started/start-your-journey/hello-world) \n",
    "\n",
    "+ [Git Guide](https://rogerdudler.github.io/git-guide/)\n",
    "\n",
    "**TODO:** Create a GitHub repository and shareit with **smduarte** and your group partner."
   ]
  }
 ],
 "metadata": {
  "celltoolbar": "Slideshow",
  "kernelspec": {
   "display_name": "Python 3 (ipykernel)",
   "language": "python",
   "name": "python3"
  },
  "language_info": {
   "codemirror_mode": {
    "name": "ipython",
    "version": 3
   },
   "file_extension": ".py",
   "mimetype": "text/x-python",
   "name": "python",
   "nbconvert_exporter": "python",
   "pygments_lexer": "ipython3",
   "version": "3.10.9"
  },
  "rise": {
   "theme": "sky"
  }
 },
 "nbformat": 4,
 "nbformat_minor": 5
}
